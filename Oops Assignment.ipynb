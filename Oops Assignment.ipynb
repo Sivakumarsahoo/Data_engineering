{
 "cells": [
  {
   "cell_type": "markdown",
   "id": "a0375d35",
   "metadata": {},
   "source": [
    "Q1. What is the purpose of Python's OOP?"
   ]
  },
  {
   "cell_type": "code",
   "execution_count": null,
   "id": "40ed51a9",
   "metadata": {},
   "outputs": [],
   "source": [
    "# solution:\n",
    "#     The purpose of Object-Oriented Programming (OOP) in Python, as in any other programming language, is to provide\n",
    "#     a way of organizing and structuring code to make it more modular, maintainable, and reusable.\n",
    "\n",
    "#     In Python, OOP is implemented through classes and objects. A class is a blueprint that defines the attributes\n",
    "#     (properties) and methods (functions) of an object, while an object is an instance of a class."
   ]
  },
  {
   "cell_type": "markdown",
   "id": "ad19fb20",
   "metadata": {},
   "source": [
    "Q2. Where does an inheritance search look for an attribute?"
   ]
  },
  {
   "cell_type": "code",
   "execution_count": null,
   "id": "253e1fea",
   "metadata": {},
   "outputs": [],
   "source": [
    "# solution:\n",
    "#     In Python, inheritance search looks for an attribute in the following order:\n",
    "#         1.The instance itself\n",
    "#         2.The instance class\n",
    "#         3.The first parent class\n",
    "#         4.The second parent class\n",
    "#         5.so on\n",
    "#         6.The built-in object class: If the attribute is not found in any of the above, the interpreter will look\n",
    "#           for it in the built-in object class, which is the ultimate base class for all classes in Python."
   ]
  },
  {
   "cell_type": "markdown",
   "id": "b730c002",
   "metadata": {},
   "source": [
    "Q3. How do you distinguish between a class object and an instance object?"
   ]
  },
  {
   "cell_type": "code",
   "execution_count": 18,
   "id": "b0880f34",
   "metadata": {},
   "outputs": [
    {
     "name": "stdout",
     "output_type": "stream",
     "text": [
      "bolero neo black suv\n",
      "4\n",
      "it is an 4 wheeler vehicle\n"
     ]
    }
   ],
   "source": [
    "# solution:\n",
    "#    A class object typically has class-level attributes and methods, which are shared by all instances of the class.\n",
    "#           These attributes and methods are accessed using the class name itself, rather than an instance of the class. \n",
    "#    An instance object, on the other hand, has its own set of instance-level attributes and methods, which are unique \n",
    "#      to that specific instance. These attributes and methods are accessed using an instance of the class, rather than the\n",
    "#      class name itself.\n",
    "\n",
    "class car:\n",
    "    wheels=4\n",
    "    def describe():\n",
    "        print(\"it is an 4 wheeler vehicle\")\n",
    "    def __init__(self,name,color,types):\n",
    "        self.name=name\n",
    "        self.color=color\n",
    "        self.types=types\n",
    "    def display(self):\n",
    "        print(self.name,end=\" \")\n",
    "        print(self.color,end=\" \")\n",
    "        print(self.types)\n",
    "\n",
    "# driver code\n",
    "car1=car('bolero neo','black','suv')\n",
    "car2=car('honda city','black','sedan')\n",
    "car1.display()\n",
    "print(car1.wheels)\n",
    "# car1.describe()     its an error\n",
    "car.describe()\n",
    "# car.display()  its a  error\n",
    "    "
   ]
  },
  {
   "cell_type": "markdown",
   "id": "f1a3198c",
   "metadata": {},
   "source": [
    "Q4. What makes the first argument in a class’s method function special?"
   ]
  },
  {
   "cell_type": "code",
   "execution_count": null,
   "id": "7e96c953",
   "metadata": {},
   "outputs": [],
   "source": [
    "# solution:\n",
    "    \n",
    "# In Python, the first argument in a class's method function is traditionally named self and is a reference to the \n",
    "# instance object that the method is being called on. This argument is special because it allows the method to access \n",
    "# and manipulate the instance's attributes and methods.\n",
    "\n",
    "# When you call a method on an instance object, Python automatically passes a reference to the instance as the first \n",
    "# argument to the method. This allows the method to access the instance's attributes using the self keyword."
   ]
  },
  {
   "cell_type": "markdown",
   "id": "979b96f6",
   "metadata": {},
   "source": [
    "Q5. What is the purpose of the init method?"
   ]
  },
  {
   "cell_type": "code",
   "execution_count": null,
   "id": "ea07a0fd",
   "metadata": {},
   "outputs": [],
   "source": [
    "# solution:\n",
    "#     it is used to intializing the object at the time of creation\n",
    "# #     it is an constructor in pythona"
   ]
  },
  {
   "cell_type": "markdown",
   "id": "e5795fa7",
   "metadata": {},
   "source": [
    "Q6. What is the process for creating a class instance?"
   ]
  },
  {
   "cell_type": "code",
   "execution_count": null,
   "id": "c5d5b993",
   "metadata": {},
   "outputs": [],
   "source": [
    "# solution:\n",
    "# object_name=class_name(attribute1,attribute2)"
   ]
  },
  {
   "cell_type": "markdown",
   "id": "07fabe29",
   "metadata": {},
   "source": [
    "Q7. What is the process for creating a class?"
   ]
  },
  {
   "cell_type": "code",
   "execution_count": null,
   "id": "15d38ca7",
   "metadata": {},
   "outputs": [],
   "source": [
    "# solution:\n",
    "#     class keyword class_name:\n",
    "#         methods \n",
    "#         attributes"
   ]
  },
  {
   "cell_type": "markdown",
   "id": "9f47ac51",
   "metadata": {},
   "source": [
    "Q8. How would you define the superclasses of a class?"
   ]
  },
  {
   "cell_type": "code",
   "execution_count": null,
   "id": "95f0fc05",
   "metadata": {},
   "outputs": [],
   "source": [
    "# To define the superclasses of a class in Python, you use inheritance. Inheritance allows you to define a new class\n",
    "# that is a modified version of an existing class. The new class inherits all the attributes and methods of the existing\n",
    "# class and can also add new attributes and methods or modify existing ones.\n",
    "\n",
    "\n",
    "# class MyClass(SuperClass):\n",
    "     # class definition\n",
    "\n",
    "    \n",
    "# You can also define multiple superclasses by specifying them in a comma-separated list:\n",
    "\n",
    "# class MyClass(SuperClass1, SuperClass2, SuperClass3):\n",
    "    # class definition"
   ]
  },
  {
   "cell_type": "markdown",
   "id": "45b37bae",
   "metadata": {},
   "source": [
    "Q9. What is the relationship between classes and modules?"
   ]
  },
  {
   "cell_type": "code",
   "execution_count": 75,
   "id": "7b812e15",
   "metadata": {},
   "outputs": [
    {
     "ename": "ModuleNotFoundError",
     "evalue": "No module named 'vehicles'",
     "output_type": "error",
     "traceback": [
      "\u001b[1;31m---------------------------------------------------------------------------\u001b[0m",
      "\u001b[1;31mModuleNotFoundError\u001b[0m                       Traceback (most recent call last)",
      "Cell \u001b[1;32mIn[75], line 33\u001b[0m\n\u001b[0;32m     26\u001b[0m         \u001b[38;5;28;01mreturn\u001b[39;00m age\n\u001b[0;32m     28\u001b[0m \u001b[38;5;66;03m# You can then import the Car class from the vehicles module into another Python script and create instances of the class:\u001b[39;00m\n\u001b[0;32m     29\u001b[0m \n\u001b[0;32m     30\u001b[0m \n\u001b[0;32m     31\u001b[0m \u001b[38;5;66;03m# main.py\u001b[39;00m\n\u001b[1;32m---> 33\u001b[0m \u001b[38;5;28;01mfrom\u001b[39;00m \u001b[38;5;21;01mvehicles\u001b[39;00m \u001b[38;5;28;01mimport\u001b[39;00m Car\n\u001b[0;32m     35\u001b[0m my_car \u001b[38;5;241m=\u001b[39m Car(\u001b[38;5;124m\"\u001b[39m\u001b[38;5;124mToyota\u001b[39m\u001b[38;5;124m\"\u001b[39m, \u001b[38;5;124m\"\u001b[39m\u001b[38;5;124mCamry\u001b[39m\u001b[38;5;124m\"\u001b[39m, \u001b[38;5;241m2010\u001b[39m)\n\u001b[0;32m     37\u001b[0m \u001b[38;5;28mprint\u001b[39m(my_car\u001b[38;5;241m.\u001b[39mmake)             \u001b[38;5;66;03m# Output: Toyota\u001b[39;00m\n",
      "\u001b[1;31mModuleNotFoundError\u001b[0m: No module named 'vehicles'"
     ]
    }
   ],
   "source": [
    "# In Python, classes and modules are both constructs used to organize code, but they serve different purposes and have\n",
    "# different relationships.\n",
    "\n",
    "# A module is a file containing Python definitions and statements, which can be imported and used in other Python scripts.\n",
    "# Modules are used to organize related code into separate files and can be reused across multiple programs. A module can \n",
    "# contain functions, variables, and classes, among other things.\n",
    "\n",
    "# A class, on the other hand, is a blueprint for creating objects that have a set of attributes and methods. Classes are\n",
    "# used to create new data types in Python and to define the behavior of objects.\n",
    "\n",
    "# The relationship between classes and modules is that a module can contain one or more classes.\n",
    "# For example, you can define a Car class in a module called vehicles.py:\n",
    "\n",
    "\n",
    "# vehicles.py\n",
    "\n",
    "class Car:\n",
    "    def __init__(self, make, model, year):\n",
    "        self.make = make\n",
    "        self.model = model\n",
    "        self.year = year\n",
    "\n",
    "    def get_age(self):\n",
    "        current_year = 2023\n",
    "        age = current_year - self.year\n",
    "        return age\n",
    "    \n",
    "# You can then import the Car class from the vehicles module into another Python script and create instances of the class:\n",
    "\n",
    "\n",
    "# main.py\n",
    "\n",
    "from vehicles import Car\n",
    "\n",
    "my_car = Car(\"Toyota\", \"Camry\", 2010)\n",
    "\n",
    "print(my_car.make)             # Output: Toyota\n",
    "print(my_car.model)            # Output: Camry\n",
    "print(my_car.year)             # Output: 2010\n",
    "print(my_car.get_age())        # Output: 13\n",
    "\n",
    "# In this example, main.py imports the Car class from vehicles.py using the from keyword. It then creates an instance \n",
    "# of the Car class and uses it to print the make, model, year, and age of the car.\n",
    "\n",
    "# Overall, the relationship between classes and modules is that classes can be defined in modules, \n",
    "# and modules can be imported and used in other Python scripts to create and use instances of those classes."
   ]
  },
  {
   "cell_type": "markdown",
   "id": "f54483ea",
   "metadata": {},
   "source": [
    "Q10. How do you make instances and classes?"
   ]
  },
  {
   "cell_type": "code",
   "execution_count": null,
   "id": "560c1b99",
   "metadata": {},
   "outputs": [],
   "source": [
    "class car:\n",
    "    wheels=4\n",
    "    def describe():\n",
    "        print(\"it is an 4 wheeler vehicle\")\n",
    "    def __init__(self,name,color,types):\n",
    "        self.name=name\n",
    "        self.color=color\n",
    "        self.types=types\n",
    "    def display(self):\n",
    "        print(self.name,end=\" \")\n",
    "        print(self.color,end=\" \")\n",
    "        print(self.types)\n",
    "\n",
    "# driver code\n",
    "car1=car('bolero neo','black','suv')\n",
    "car2=car('honda city','black','sedan')\n",
    "car1.display()\n",
    "print(car1.wheels)"
   ]
  },
  {
   "cell_type": "markdown",
   "id": "adbf117a",
   "metadata": {},
   "source": [
    "Q11. Where and how should be class attributes created?"
   ]
  },
  {
   "cell_type": "code",
   "execution_count": 26,
   "id": "13a8ab10",
   "metadata": {},
   "outputs": [
    {
     "name": "stdout",
     "output_type": "stream",
     "text": [
      "2\n",
      "he is indian\n"
     ]
    }
   ],
   "source": [
    "# solution:\n",
    "# before the init statement we can create class attributes\n",
    "class person:\n",
    "    leg=2\n",
    "    def nationality():\n",
    "        print(\"he is indian\")\n",
    "# driver code\n",
    "print(person.leg)\n",
    "person.nationality()"
   ]
  },
  {
   "cell_type": "markdown",
   "id": "7262aa58",
   "metadata": {},
   "source": [
    "Q12. Where and how are instance attributes created?"
   ]
  },
  {
   "cell_type": "code",
   "execution_count": 27,
   "id": "4285a517",
   "metadata": {},
   "outputs": [
    {
     "name": "stdout",
     "output_type": "stream",
     "text": [
      "2\n",
      "he is indian\n"
     ]
    },
    {
     "data": {
      "text/plain": [
       "'male'"
      ]
     },
     "execution_count": 27,
     "metadata": {},
     "output_type": "execute_result"
    }
   ],
   "source": [
    "# solution:\n",
    "#     after the init statement\n",
    "class person:\n",
    "    leg=2\n",
    "    def nationality():\n",
    "        print(\"he is indian\")\n",
    "    def __init__(self,sex,age):\n",
    "        self.sex=sex\n",
    "        self.age=age\n",
    "    \n",
    "# driver code\n",
    "print(person.leg)\n",
    "person.nationality()\n",
    "p1=person(\"male\",22)\n",
    "p1.sex"
   ]
  },
  {
   "cell_type": "markdown",
   "id": "7bd0fe03",
   "metadata": {},
   "source": [
    "Q13. What does the term \"self\" in a Python class mean?"
   ]
  },
  {
   "cell_type": "code",
   "execution_count": null,
   "id": "53d78945",
   "metadata": {},
   "outputs": [],
   "source": [
    "# In Python, self is a convention used to refer to the instance of a class within its own methods. When you define\n",
    "# a class method, the first argument is conventionally named self, which refers to the instance of the class that the\n",
    "# method is being called on."
   ]
  },
  {
   "cell_type": "markdown",
   "id": "3a1f7aee",
   "metadata": {},
   "source": [
    "Q14. How does a Python class handle operator overloading?"
   ]
  },
  {
   "cell_type": "code",
   "execution_count": 46,
   "id": "a79e4a6f",
   "metadata": {},
   "outputs": [
    {
     "name": "stdout",
     "output_type": "stream",
     "text": [
      "(4, 6)\n"
     ]
    }
   ],
   "source": [
    "# In Python, operator overloading is implemented using special methods or dunder methods (short for \"double underscore\"\n",
    "# methods), which are methods that have special names that begin and end with two underscores. These methods allow you \n",
    "# to define how an operator should behave when it is used with an instance of your class.\n",
    "\n",
    "# For example, the + operator can be overloaded to add two custom objects together by defining the __add__() method\n",
    "# in your class. When the + operator is used with an instance of your class, Python will automatically call the __add__()\n",
    "# method and pass the two operands as arguments. The __add__() method should return the result of the addition.\n",
    "\n",
    "# Here's an example that shows how to overload the + operator for a custom Vector class:\n",
    "\n",
    "\n",
    "class Vector:\n",
    "    def __init__(self, x, y):\n",
    "        self.x = x\n",
    "        self.y = y\n",
    "\n",
    "    def __add__(self, other):\n",
    "        return Vector(self.x + other.x, self.y + other.y)\n",
    "\n",
    "    def __str__(self):\n",
    "        return f\"({self.x}, {self.y})\"\n",
    "\n",
    "v1 = Vector(1, 2)\n",
    "v2 = Vector(3, 4)\n",
    "v3 = v1 + v2  # calls the __add__() method of v1 with v2 as the argument\n",
    "print(v3)  # output: (4, 6)"
   ]
  },
  {
   "cell_type": "markdown",
   "id": "9de5ea01",
   "metadata": {},
   "source": [
    "Q15. When do you consider allowing operator overloading of your classes?"
   ]
  },
  {
   "cell_type": "code",
   "execution_count": 77,
   "id": "4ffcf8b3",
   "metadata": {},
   "outputs": [],
   "source": [
    "# In general, if your class represents a mathematical or logical concept for which it makes sense to have custom operators\n",
    "# defined, and doing so would make your code more readable and maintainable, then operator overloading may be a good choice."
   ]
  },
  {
   "cell_type": "markdown",
   "id": "df00c7a8",
   "metadata": {},
   "source": [
    "Q16. What is the most popular form of operator overloading?"
   ]
  },
  {
   "cell_type": "code",
   "execution_count": null,
   "id": "4113f3c7",
   "metadata": {},
   "outputs": [],
   "source": [
    "# In Python, the most popular form of operator overloading is probably the implementation of the arithmetic operators\n",
    "# (+, -, *, /, //, %, **) for custom classes. This allows instances of the class to be used with arithmetic operators\n",
    "# in a way that makes sense for the class's domain."
   ]
  },
  {
   "cell_type": "markdown",
   "id": "dc57adf9",
   "metadata": {},
   "source": [
    "Q17. What are the two most important concepts to grasp in order to comprehend Python OOP code?"
   ]
  },
  {
   "cell_type": "code",
   "execution_count": null,
   "id": "d8a46359",
   "metadata": {},
   "outputs": [],
   "source": [
    "# classes\n",
    "# object"
   ]
  },
  {
   "cell_type": "markdown",
   "id": "bd3e4683",
   "metadata": {},
   "source": [
    "Q18. Describe three applications for exception processing."
   ]
  },
  {
   "cell_type": "code",
   "execution_count": null,
   "id": "b681ce52",
   "metadata": {},
   "outputs": [],
   "source": [
    "# Error handling: \n",
    "\n",
    "# Resource cleanup: \n",
    "\n",
    "# Program flow control:"
   ]
  },
  {
   "cell_type": "markdown",
   "id": "9a532bef",
   "metadata": {},
   "source": [
    "Q19. What happens if you don't do something extra to treat an exception?"
   ]
  },
  {
   "cell_type": "code",
   "execution_count": 20,
   "id": "8183cac9",
   "metadata": {},
   "outputs": [],
   "source": [
    "# solution:\n",
    "#     then it will show error"
   ]
  },
  {
   "cell_type": "markdown",
   "id": "58cef49c",
   "metadata": {},
   "source": [
    "Q20. What are your options for recovering from an exception in your script?"
   ]
  },
  {
   "cell_type": "code",
   "execution_count": null,
   "id": "cc039527",
   "metadata": {},
   "outputs": [],
   "source": [
    "# solution:\n",
    "#     using try except block\n",
    "# or finally block\n",
    "\n",
    "# or if it is not possible then exit from the code"
   ]
  },
  {
   "cell_type": "markdown",
   "id": "f84301dc",
   "metadata": {},
   "source": [
    "Q21. Describe two methods for triggering exceptions in your script."
   ]
  },
  {
   "cell_type": "code",
   "execution_count": 71,
   "id": "f529d3d8",
   "metadata": {},
   "outputs": [
    {
     "name": "stdout",
     "output_type": "stream",
     "text": [
      "File not found\n"
     ]
    }
   ],
   "source": [
    "# Using the raise statement: You can use the raise statement to manually raise an exception in your code. The raise\n",
    "# statement takes an exception class or instance as an argument and raises that exception, causing the program to\n",
    "# stop executing and triggering the corresponding exception handling code.\n",
    "# Example:\n",
    "\n",
    "\n",
    "x = 10\n",
    "if x > 5:\n",
    "    raise ValueError(\"x cannot be greater than 5\")\n",
    "    \n",
    "# In this example, we manually raise a ValueError exception if x is greater than 5.\n",
    "\n",
    "# Using built-in functions that can raise exceptions: Many built-in functions in Python can raise exceptions if they encounter\n",
    "# an error or unexpected condition. For example, the open() function can raise a FileNotFoundError exception if the specified \n",
    "# file does not exist. To handle these exceptions, you can use a try-except block to catch the exception and handle it \n",
    "# gracefully.\n",
    "# Example:\n",
    "\n",
    "\n",
    "try:\n",
    "    file = open(\"myfile.txt\", \"r\")\n",
    "except FileNotFoundError:\n",
    "    print(\"File not found\")"
   ]
  },
  {
   "cell_type": "markdown",
   "id": "e5f6eb2b",
   "metadata": {},
   "source": [
    "Q22. Identify two methods for specifying actions to be executed at termination time, regardless of\n",
    "whether or not an exception exists."
   ]
  },
  {
   "cell_type": "code",
   "execution_count": 73,
   "id": "00325465",
   "metadata": {},
   "outputs": [
    {
     "data": {
      "text/plain": [
       "<function __main__.cleanup()>"
      ]
     },
     "execution_count": 73,
     "metadata": {},
     "output_type": "execute_result"
    }
   ],
   "source": [
    "# In Python, there are two methods for specifying actions to be executed at termination time, regardless of whether or not\n",
    "# an exception exists:\n",
    "\n",
    "# The finally clause: This clause is used in a try/except block to specify code that should be executed regardless of whether\n",
    "#     an exception is raised or not. The finally clause is always executed, even if an unhandled exception occurs in the try\n",
    "#     block or in one of the except blocks. The syntax for using finally is:\n",
    "\n",
    "\n",
    "# try:\n",
    "    # some code that might raise an exception\n",
    "# except SomeException:\n",
    "    # handle the exception\n",
    "# finally:\n",
    "    # code that should always be executed\n",
    "    \n",
    "# In this example, the code in the finally block is executed regardless of whether an exception was raised or not. This \n",
    "# can be useful for releasing resources, closing files, or cleaning up temporary data.\n",
    "\n",
    "# The atexit module: This module provides a way to register functions to be called when the program is about to exit.\n",
    "#     Functions registered using atexit are called in reverse order of their registration, and they are called even if an\n",
    "#     unhandled exception occurs during the execution of the program. The syntax for using atexit is:\n",
    "\n",
    "\n",
    "import atexit\n",
    "\n",
    "def cleanup():\n",
    "    # code that should always be executed\n",
    "    pass\n",
    "  \n",
    "\n",
    "atexit.register(cleanup)\n",
    "# In this example, the cleanup() function is registered using atexit, and it will be called when the program is abou\n",
    "# to exit, regardless of whether an exception occurred or not. This can be useful for cleaning up resources, closing\n",
    "# connections to databases, or performing other tasks that should be done before the program exits."
   ]
  },
  {
   "cell_type": "markdown",
   "id": "68ea16bb",
   "metadata": {},
   "source": [
    "Q23. What is the purpose of the try statement?"
   ]
  },
  {
   "cell_type": "code",
   "execution_count": null,
   "id": "a89cc320",
   "metadata": {},
   "outputs": [],
   "source": [
    "# solution:\n",
    "#     purpose of try statement is to catch exception\n",
    "a=[1,2]\n",
    "try:\n",
    "    print(a[8])\n",
    "except Exception as err:\n",
    "    print(err)"
   ]
  },
  {
   "cell_type": "markdown",
   "id": "840d34f8",
   "metadata": {},
   "source": [
    "Q24. What are the two most popular try statement variations?"
   ]
  },
  {
   "cell_type": "code",
   "execution_count": null,
   "id": "42cff6e9",
   "metadata": {},
   "outputs": [],
   "source": [
    "# solution:\n",
    "#     try-except statement:\n",
    "        \n",
    "#         try:\n",
    "#             code\n",
    "#         except Exception:\n",
    "#             code\n",
    "            \n",
    "#     try-finally statement\n",
    "    \n",
    "#          try:\n",
    "#             code\n",
    "#          finally:\n",
    "#             code"
   ]
  },
  {
   "cell_type": "markdown",
   "id": "21cc746f",
   "metadata": {},
   "source": [
    "Q25. What is the purpose of the raise statement?"
   ]
  },
  {
   "cell_type": "code",
   "execution_count": 74,
   "id": "135b356d",
   "metadata": {},
   "outputs": [
    {
     "name": "stdout",
     "output_type": "stream",
     "text": [
      "Error: division by zero\n"
     ]
    }
   ],
   "source": [
    "# The main purpose of the raise statement is to signal to the program that an error or unexpected condition has \n",
    "# occurred and that the normal flow of execution cannot continue. When the raise statement is executed, it generates\n",
    "# an exception object with a specified type and message, and then it stops the normal execution of the program and starts\n",
    "# looking for an exception handler that can handle the exception.\n",
    "\n",
    "def divide(a, b):\n",
    "    if b == 0:\n",
    "        raise ZeroDivisionError(\"division by zero\")\n",
    "    return a / b\n",
    "\n",
    "try:\n",
    "    result = divide(10, 0)\n",
    "except ZeroDivisionError as e:\n",
    "    print(\"Error:\", e)"
   ]
  },
  {
   "cell_type": "markdown",
   "id": "6bc641b7",
   "metadata": {},
   "source": [
    "Q26. What does the assert statement do, and what other statement is it like?"
   ]
  },
  {
   "cell_type": "code",
   "execution_count": null,
   "id": "35b06b4f",
   "metadata": {},
   "outputs": [],
   "source": [
    "\n",
    "# The assert statement in Python is used to test if a condition is true, and if not, it raises an AssertionError\n",
    "# exception with an optional error message. It is similar to an if statement, but it is primarily used for debugging\n",
    "# and testing purposes.\n",
    "\n",
    "# The syntax for the assert statement is:\n",
    "\n",
    "\n",
    "assert condition, message\n",
    "\n",
    "# Here, condition is the expression that you want to test, and message is an optional message that is displayed if the\n",
    "# assertion fails.\n",
    "\n",
    "# If the condition is true, the program continues to execute normally. If the condition is false, the assert statement \n",
    "# raises an AssertionError exception with the message as the error message.\n",
    "\n",
    "For example:\n",
    "\n",
    "\n",
    "def divide(x, y):\n",
    "    assert y != 0, \"Error: Cannot divide by zero\"\n",
    "    return x / y\n",
    "\n",
    "print(divide(10, 2)) # Output: 5.0\n",
    "print(divide(10, 0)) # Raises an AssertionError with the message \"Error: Cannot divide by zero\"\n",
    "# In this example, the assert statement is used to check if the second argument y is not equal to zero, and if it is,\n",
    "# it raises an AssertionError with the error message \"Error: Cannot divide by zero\".\n",
    "\n",
    "# Another statement that is similar to the assert statement is the raise statement, which is used to raise an exception\n",
    "# manually. However, the raise statement is used for more general exception handling, while assert is used specifically\n",
    "# for debugging and testing purposes."
   ]
  },
  {
   "cell_type": "markdown",
   "id": "063ab059",
   "metadata": {},
   "source": [
    "Q27. What is the purpose of the with/as argument, and what other statement is it like?"
   ]
  },
  {
   "cell_type": "code",
   "execution_count": null,
   "id": "88fb72cb",
   "metadata": {},
   "outputs": [],
   "source": [
    "# The with statement in Python is used to wrap the execution of a block of code with methods defined by a context manager.\n",
    "# The context manager is an object that defines the methods __enter__() and __exit__() which are invoked at the beginning\n",
    "# and end of the block of code, respectively. The with statement ensures that the __exit__() method is always called, even\n",
    "# if an exception is raised during the execution of the code block.\n",
    "\n",
    "# The as clause in the with statement is used to assign the result of the __enter__() method to a variable. This is useful\n",
    "# when the context manager returns a resource that needs to be cleaned up after the execution of the code block.\n",
    "\n",
    "# The with statement is similar to the try/finally statement, which is used to ensure that a block of code is always executed,\n",
    "# even if an exception is raised. However, the with statement is more concise and easier to read than the try/finally \n",
    "# statement, especially when dealing with resources that need to be cleaned up.\n",
    "\n",
    "# Here is an example of using the with/as statement with a file object:\n",
    "\n",
    "\n",
    "with open('example.txt', 'r') as f:\n",
    "    for line in f:\n",
    "        print(line)\n",
    "        \n",
    "        \n",
    "# In this example, the with statement is used to open the file 'example.txt' for reading, and the file object is assigned to\n",
    "# the variable f using the as clause. The code block under the with statement reads and prints each line of the file. After \n",
    "# the code block is executed, the __exit__() method of the file object is called automatically, which closes the file and \n",
    "# frees up any system resources associated with it."
   ]
  },
  {
   "cell_type": "markdown",
   "id": "665cecc5",
   "metadata": {},
   "source": [
    "Q28. What are *args, **kwargs?"
   ]
  },
  {
   "cell_type": "code",
   "execution_count": 67,
   "id": "084a5249",
   "metadata": {},
   "outputs": [
    {
     "name": "stdout",
     "output_type": "stream",
     "text": [
      "10\n",
      "{'name': 'John', 'age': 30, 'city': 'New York'}\n",
      "name: John\n",
      "age: 30\n",
      "city: New York\n"
     ]
    }
   ],
   "source": [
    "# *args\n",
    "def sum_numbers(*args):\n",
    "    result = 0\n",
    "    for a in args:\n",
    "        result += a\n",
    "    return result\n",
    "\n",
    "print(sum_numbers(1, 2, 3, 4))  # Output: 10\n",
    "\n",
    "# **kwargs\n",
    "def print_info(**kwargs):\n",
    "    print(kwargs)\n",
    "    for key, value in kwargs.items():\n",
    "        print(f\"{key}: {value}\")\n",
    "\n",
    "print_info(name=\"John\", age=30, city=\"New York\")  "
   ]
  },
  {
   "cell_type": "markdown",
   "id": "af5cae48",
   "metadata": {},
   "source": [
    "Q29. How can I pass optional or keyword parameters from one function to another?"
   ]
  },
  {
   "cell_type": "code",
   "execution_count": null,
   "id": "fefac16b",
   "metadata": {},
   "outputs": [],
   "source": [
    "# *args and **kwargs"
   ]
  },
  {
   "cell_type": "markdown",
   "id": "1025f20c",
   "metadata": {},
   "source": [
    "Q30. What are Lambda Functions?"
   ]
  },
  {
   "cell_type": "code",
   "execution_count": 21,
   "id": "eaf19215",
   "metadata": {},
   "outputs": [
    {
     "name": "stdout",
     "output_type": "stream",
     "text": [
      "[5, 7, 5, 7]\n"
     ]
    }
   ],
   "source": [
    "# solution:\n",
    "#     lambda function are annonomous function\n",
    "#     it is not used def keyword\n",
    "#     it is inline function\n",
    "ans=lambda x:x*2\n",
    "print(ans([5,7]))"
   ]
  },
  {
   "cell_type": "markdown",
   "id": "806699a6",
   "metadata": {},
   "source": [
    "Q31. Explain Inheritance in Python with an example?"
   ]
  },
  {
   "cell_type": "code",
   "execution_count": null,
   "id": "89c28a2f",
   "metadata": {},
   "outputs": [],
   "source": [
    "# inheritance: child class inherit the attributes and method of parent class\n",
    "#     it increase the reusability of code\n",
    "#     it decrease the repetitve code"
   ]
  },
  {
   "cell_type": "markdown",
   "id": "7d111329",
   "metadata": {},
   "source": [
    "Q32. Suppose class C inherits from classes A and B as class C(A,B).Classes A and B both have their own versions of\n",
    "method func(). If we call func() from an object of class C, which version gets invoked?"
   ]
  },
  {
   "cell_type": "code",
   "execution_count": 53,
   "id": "c8302763",
   "metadata": {},
   "outputs": [
    {
     "name": "stdout",
     "output_type": "stream",
     "text": [
      "A's func()\n"
     ]
    }
   ],
   "source": [
    "class A:\n",
    "    def func(self):\n",
    "        print(\"A's func()\")\n",
    "\n",
    "class B:\n",
    "    def func(self):\n",
    "        print(\"B's func()\")\n",
    "\n",
    "class C(A,B):\n",
    "    def call_func(self):\n",
    "        super().func()\n",
    "\n",
    "c = C()\n",
    "c.call_func()\n",
    "\n",
    "\n",
    "\n",
    "\n",
    "\n"
   ]
  },
  {
   "cell_type": "markdown",
   "id": "83bb6207",
   "metadata": {},
   "source": [
    "Q33. Which methods/functions do we use to determine the type of instance and inheritance?"
   ]
  },
  {
   "cell_type": "code",
   "execution_count": null,
   "id": "5f675838",
   "metadata": {},
   "outputs": [],
   "source": [
    "# In Python, we can use the type() function to determine the type of an instance. \n",
    "\n",
    "x = 5\n",
    "print(type(x))  # output: <class 'int'>\n",
    "\n",
    "\n",
    "\n",
    "# To check if an object is an instance of a certain class or its subclass, we can use the isinstance() function.\n",
    "\n",
    "class Animal:\n",
    "    pass\n",
    "\n",
    "class Cat(Animal):\n",
    "    pass\n",
    "\n",
    "my_cat = Cat()\n",
    "\n",
    "print(isinstance(my_cat, Cat))      # output: True\n",
    "print(isinstance(my_cat, Animal))   # output: True\n",
    "print(isinstance(my_cat, object))   # output: True\n",
    "print(isinstance(my_cat, int))      # output: False\n",
    "\n",
    "\n",
    "\n",
    "# To determine if an object is a subclass of a certain class, we can use the issubclass() function. For example:\n",
    "\n",
    "\n",
    "class Animal:\n",
    "    pass\n",
    "\n",
    "class Cat(Animal):\n",
    "    pass\n",
    "\n",
    "print(issubclass(Cat, Animal))      # output: True\n",
    "print(issubclass(Animal, object))   # output: True\n",
    "print(issubclass(Cat, object))      # output: True\n",
    "print(issubclass(int, object))      # output: True"
   ]
  },
  {
   "cell_type": "markdown",
   "id": "33bde5c5",
   "metadata": {},
   "source": [
    "Q34.Explain the use of the 'nonlocal' keyword in Python."
   ]
  },
  {
   "cell_type": "code",
   "execution_count": 64,
   "id": "65cf1b23",
   "metadata": {},
   "outputs": [
    {
     "name": "stdout",
     "output_type": "stream",
     "text": [
      "1\n",
      "2\n",
      "3\n"
     ]
    }
   ],
   "source": [
    "# In Python, the nonlocal keyword is used to refer to a variable that is defined in the nearest enclosing scope which\n",
    "# is not the global scope. This allows a nested function to access and modify the value of a variable that is defined \n",
    "# in the enclosing scope, without creating a new local variable with the same name.\n",
    "\n",
    "def outer():\n",
    "    x = 0\n",
    "\n",
    "    def inner():\n",
    "        nonlocal x\n",
    "        x += 1\n",
    "        print(x)\n",
    "\n",
    "    inner()   # prints 1\n",
    "    inner()   # prints 2\n",
    "    inner()   # prints 3\n",
    "\n",
    "outer()"
   ]
  },
  {
   "cell_type": "markdown",
   "id": "edb29521",
   "metadata": {},
   "source": [
    "Q35. What is the global keyword?"
   ]
  },
  {
   "cell_type": "code",
   "execution_count": 57,
   "id": "a8e66b1d",
   "metadata": {},
   "outputs": [
    {
     "name": "stdout",
     "output_type": "stream",
     "text": [
      "20\n",
      "20\n"
     ]
    }
   ],
   "source": [
    "\n",
    "# In Python, the global keyword is used to indicate that a variable is a global variable, rather than a local variable.\n",
    "# When you define a variable inside a function, it is considered a local variable by default, which means that it can only\n",
    "# be accessed and modified within that function. However, if you want to access or modify a global variable from inside a \n",
    "# function, you need to use the global keyword to indicate that the variable is a global variable.\n",
    "\n",
    "x = 10  # global variable\n",
    "\n",
    "def my_function():\n",
    "    global x  # indicate that we want to use the global variable x\n",
    "    x = 20  # modify the global variable x\n",
    "    print(x)  # prints 20\n",
    "\n",
    "my_function()\n",
    "print(x)  # prints 20 (the value was modified inside the function)"
   ]
  },
  {
   "cell_type": "code",
   "execution_count": 47,
   "id": "4f12bbcb",
   "metadata": {},
   "outputs": [
    {
     "name": "stdout",
     "output_type": "stream",
     "text": [
      "An animal makes a sound.\n",
      "A dog barks.\n"
     ]
    }
   ],
   "source": [
    "# 36\n",
    "\n",
    "\n",
    "# super() is a built-in function in Python that provides a way to access methods and attributes of a superclass in a subclass.\n",
    "# It returns a temporary object of the superclass, which allows you to call its methods or access its attributes.\n",
    "\n",
    "# The super() function takes two arguments:\n",
    "\n",
    "# The first argument is the subclass that you want to refer to. This can be either the class name or the class object itself.\n",
    "# The second argument is the instance of the subclass that you want to pass to the superclass method.\n",
    "# Here's an example that illustrates how to use super() in a subclass to access the superclass's method:\n",
    "\n",
    "\n",
    "class Animal:\n",
    "    def __init__(self, name):\n",
    "        self.name = name\n",
    "\n",
    "    def speak(self):\n",
    "        print(\"An animal makes a sound.\")\n",
    "\n",
    "class Dog(Animal):\n",
    "    def __init__(self, name, breed):\n",
    "        super().__init__(name)  # call Animal's __init__ method\n",
    "        self.breed = breed\n",
    "\n",
    "    def speak(self):\n",
    "        super().speak()  # call Animal's speak method\n",
    "        print(\"A dog barks.\")\n",
    "\n",
    "my_dog = Dog(\"Rufus\", \"Labrador\")\n",
    "my_dog.speak()  # output: An animal makes a sound. A dog barks.\n"
   ]
  }
 ],
 "metadata": {
  "kernelspec": {
   "display_name": "Python 3 (ipykernel)",
   "language": "python",
   "name": "python3"
  },
  "language_info": {
   "codemirror_mode": {
    "name": "ipython",
    "version": 3
   },
   "file_extension": ".py",
   "mimetype": "text/x-python",
   "name": "python",
   "nbconvert_exporter": "python",
   "pygments_lexer": "ipython3",
   "version": "3.11.1"
  }
 },
 "nbformat": 4,
 "nbformat_minor": 5
}
