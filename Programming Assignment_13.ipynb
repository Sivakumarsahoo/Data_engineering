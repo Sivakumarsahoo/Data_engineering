{
 "cells": [
  {
   "cell_type": "markdown",
   "id": "678ee3c8",
   "metadata": {},
   "source": [
    "Question 1. Write a program that calculates and prints the value according to the given formula:\n",
    "Q = Square root of [(2 C D)/H]\n",
    "\n",
    "Following are the fixed values of C and H:\n",
    "\n",
    "C is 50. H is 30.\n",
    "\n",
    "D is the variable whose values should be input to your program in a comma-separated sequence.\n",
    "\n",
    "Example\n",
    "\n",
    "Let us assume the following comma separated input sequence is given to the program:\n",
    "\n",
    "100,150,180\n",
    "\n",
    "The output of the program should be:\n",
    "\n",
    "18,22,24"
   ]
  },
  {
   "cell_type": "code",
   "execution_count": 29,
   "id": "6f404d9c",
   "metadata": {},
   "outputs": [
    {
     "name": "stdout",
     "output_type": "stream",
     "text": [
      "enter values100\n",
      "18\n"
     ]
    }
   ],
   "source": [
    "# solution:\n",
    "import math as m\n",
    "def solve(inp):\n",
    "    for i in inp:\n",
    "        q=int(m.sqrt((2*50*int(i))/30))\n",
    "        print(q)\n",
    "    \n",
    "    \n",
    "\n",
    "inp=input(\"enter values\").split(\",\")\n",
    "solve(inp)"
   ]
  },
  {
   "cell_type": "markdown",
   "id": "2bfc036c",
   "metadata": {},
   "source": [
    "Question 2. Write a program which takes 2 digits, X,Y as input and generates a 2-dimensional array. The element value in the \n",
    "i-th row and j-th column of the array should be i*j."
   ]
  },
  {
   "cell_type": "code",
   "execution_count": 20,
   "id": "fc5db90d",
   "metadata": {},
   "outputs": [
    {
     "name": "stdout",
     "output_type": "stream",
     "text": [
      "enter values row 4\n",
      "enter values column 5\n",
      "[[0, 0, 0, 0, 0], [0, 1, 2, 3, 4], [0, 2, 4, 6, 8], [0, 3, 6, 9, 12]]\n"
     ]
    }
   ],
   "source": [
    "# solution:\n",
    "x=int(input(\"enter values row \"))\n",
    "y=int(input(\"enter values column \"))\n",
    "b=[]\n",
    "for i in range(x):\n",
    "    a=[]\n",
    "    for j in range(y):\n",
    "        a.append(i*j)\n",
    "    b.append(a)\n",
    "print(b)\n",
    "        "
   ]
  },
  {
   "cell_type": "markdown",
   "id": "62a59ada",
   "metadata": {},
   "source": [
    "Question 3. Write a program that accepts a comma separated sequence of words as input and prints the words in a comma-separated sequence after sorting them alphabetically."
   ]
  },
  {
   "cell_type": "code",
   "execution_count": 27,
   "id": "46658f6c",
   "metadata": {},
   "outputs": [
    {
     "name": "stdout",
     "output_type": "stream",
     "text": [
      "enter sentence comma seperatedhee,app,bay\n",
      "app, bay, hee\n"
     ]
    }
   ],
   "source": [
    "x=input(\"enter sentence comma seperated\").split(\",\")\n",
    "x.sort()\n",
    "y=\", \".join(x)\n",
    "print(y)"
   ]
  },
  {
   "cell_type": "markdown",
   "id": "5e0f114a",
   "metadata": {},
   "source": [
    "Question 4. Write a program that accepts a sequence of whitespace separated words as input and prints the words after removing all duplicate words and sorting them alphanumerically."
   ]
  },
  {
   "cell_type": "code",
   "execution_count": 34,
   "id": "b8fc40e2",
   "metadata": {},
   "outputs": [
    {
     "name": "stdout",
     "output_type": "stream",
     "text": [
      "enter sentencehello world and practice makes perfect and hello world again\n",
      "['again', 'and', 'hello', 'makes', 'perfect', 'practice', 'world']\n"
     ]
    }
   ],
   "source": [
    "# solution:\n",
    "x=list(set(input(\"enter sentence\").split(\" \")))\n",
    "x.sort()\n",
    "print(x)"
   ]
  },
  {
   "cell_type": "markdown",
   "id": "e6bf1327",
   "metadata": {},
   "source": [
    "Question 5. Write a program that accepts a sentence and calculate the number of letters and digits."
   ]
  },
  {
   "cell_type": "code",
   "execution_count": 47,
   "id": "37398523",
   "metadata": {},
   "outputs": [
    {
     "name": "stdout",
     "output_type": "stream",
     "text": [
      "enter sentence hello world and practice makes perfect and hello world again\n",
      "total no of words 10\n",
      "total no of letters 51\n"
     ]
    },
    {
     "data": {
      "text/plain": [
       "'hello world and practice makes perfect and hello world again'"
      ]
     },
     "execution_count": 47,
     "metadata": {},
     "output_type": "execute_result"
    }
   ],
   "source": [
    "# solution:\n",
    "x=(input(\"enter sentence \").split())\n",
    "y=len(x)\n",
    "print(\"total no of words\",y)\n",
    "z=0\n",
    "for i in x:\n",
    "    z+=len(i)   \n",
    "print(\"total no of letters\",z)\n",
    "\" \".join(x)"
   ]
  },
  {
   "cell_type": "markdown",
   "id": "11c71b33",
   "metadata": {},
   "source": [
    "Question 6. A website requires the users to input username and password to register. Write a program to check the validity of password input by users."
   ]
  },
  {
   "cell_type": "code",
   "execution_count": 76,
   "id": "80bca989",
   "metadata": {},
   "outputs": [
    {
     "name": "stdout",
     "output_type": "stream",
     "text": [
      "enter your password ABd1234@1,a F1#,2w3E*,2We3345, EKd9876@1,a F1#,2w3E*,2We3345  EKd9876@1,ABd1234@1\n",
      "password is correct\n",
      "password is short\n",
      "password is short\n",
      "password is short\n",
      "password is correct\n",
      "password is short\n",
      "password is short\n",
      "password is long\n",
      "password is correct\n"
     ]
    }
   ],
   "source": [
    "# solution:\n",
    "def checksymbol(pas):\n",
    "    sym=\"!@#$%^&*()_+=->;,:/?`\"\n",
    "    for i in pas:\n",
    "        if i in sym:\n",
    "            print(\"password is correct\")\n",
    "            break\n",
    "    else:\n",
    "        print(\"no special character\")\n",
    "\n",
    "def checkdigit(pas):\n",
    "     for i in pas:\n",
    "        if ord(i)>=48 and ord(i)<=57:\n",
    "            checksymbol(pas)\n",
    "            break\n",
    "     else:\n",
    "        print(\"no digit\")\n",
    "    \n",
    "def checklower(pas):\n",
    "    for i in pas:\n",
    "        if ord(i)>=97 and ord(i)<=122:\n",
    "            checkdigit(pas)\n",
    "            break\n",
    "    else:\n",
    "        print(\"no lower case\")\n",
    "def checkupper(pas):\n",
    "    for i in pas:\n",
    "        if ord(i)>=65 and ord(i)<=90:\n",
    "            checklower(pas)\n",
    "            break\n",
    "    else:\n",
    "        print(\"no upper case\")\n",
    "def checklength(pas):\n",
    "    if len(pas)>15:\n",
    "        print(\"password is long\")\n",
    "    elif len(pas)<8:\n",
    "        print(\"password is short\")\n",
    "    else:\n",
    "        checkupper(pas)\n",
    "\n",
    "pas=input(\"enter your password \").split(\",\")\n",
    "for i in pas:\n",
    "    checklength(i)"
   ]
  }
 ],
 "metadata": {
  "kernelspec": {
   "display_name": "Python 3 (ipykernel)",
   "language": "python",
   "name": "python3"
  },
  "language_info": {
   "codemirror_mode": {
    "name": "ipython",
    "version": 3
   },
   "file_extension": ".py",
   "mimetype": "text/x-python",
   "name": "python",
   "nbconvert_exporter": "python",
   "pygments_lexer": "ipython3",
   "version": "3.11.1"
  }
 },
 "nbformat": 4,
 "nbformat_minor": 5
}
