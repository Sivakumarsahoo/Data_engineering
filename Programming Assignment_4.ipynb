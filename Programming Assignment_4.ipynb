{
 "cells": [
  {
   "cell_type": "markdown",
   "id": "5f053d61",
   "metadata": {},
   "source": [
    "#                                     Programming Assignment_4"
   ]
  },
  {
   "cell_type": "markdown",
   "id": "3fc3dd8f",
   "metadata": {},
   "source": [
    "# Question 1. Write a Python Program to Find the Factorial of a Number?"
   ]
  },
  {
   "cell_type": "code",
   "execution_count": 2,
   "id": "ac03f94c",
   "metadata": {},
   "outputs": [
    {
     "name": "stdout",
     "output_type": "stream",
     "text": [
      "enter number 5\n",
      "factorial of 5 is 120 \n"
     ]
    }
   ],
   "source": [
    "# solution:\n",
    "a=int(input(\"enter number \"))\n",
    "ans=1\n",
    "for i in range(1,a+1):\n",
    "    ans*=i\n",
    "print(\"factorial of {} is {} \".format(a,ans))"
   ]
  },
  {
   "cell_type": "markdown",
   "id": "57aba03e",
   "metadata": {},
   "source": [
    "# Question 2. Write a Python Program to Display the multiplication Table?"
   ]
  },
  {
   "cell_type": "code",
   "execution_count": 3,
   "id": "450d9bd4",
   "metadata": {},
   "outputs": [
    {
     "name": "stdout",
     "output_type": "stream",
     "text": [
      "enter number 9\n",
      "9 X 1 = 9 \n",
      "9 X 2 = 18 \n",
      "9 X 3 = 27 \n",
      "9 X 4 = 36 \n",
      "9 X 5 = 45 \n",
      "9 X 6 = 54 \n",
      "9 X 7 = 63 \n",
      "9 X 8 = 72 \n",
      "9 X 9 = 81 \n",
      "9 X 10 = 90 \n"
     ]
    }
   ],
   "source": [
    "# solution:\n",
    "a=int(input(\"enter number \"))\n",
    "for i in range(1,11):\n",
    "    print(\"{} X {} = {} \".format(a,i,a*i))"
   ]
  },
  {
   "cell_type": "markdown",
   "id": "1955fe26",
   "metadata": {},
   "source": [
    "# Question 3. Write a Python Program to Print the Fibonacci sequence?"
   ]
  },
  {
   "cell_type": "code",
   "execution_count": 15,
   "id": "9c3b463b",
   "metadata": {},
   "outputs": [
    {
     "name": "stdout",
     "output_type": "stream",
     "text": [
      "enter value 9\n",
      "0 1 1 2 3 5 8 13 21 "
     ]
    }
   ],
   "source": [
    "# solution:\n",
    "first=0\n",
    "second=1\n",
    "a=int(input(\"enter value \"))\n",
    "if(a>=1):\n",
    "    print(first,end=\" \")\n",
    "if(a>=2):\n",
    "    print(second,end=\" \")\n",
    "if(a>=3):\n",
    "    b=3\n",
    "    while(b<=a):\n",
    "        third=first+second\n",
    "        first=second\n",
    "        second=third\n",
    "        print(second,end=\" \")\n",
    "        b+=1"
   ]
  },
  {
   "cell_type": "markdown",
   "id": "bfd061c4",
   "metadata": {},
   "source": [
    "# Question 4. Write a Python Program to Check Armstrong Number?"
   ]
  },
  {
   "cell_type": "code",
   "execution_count": 12,
   "id": "fb513f1d",
   "metadata": {},
   "outputs": [
    {
     "name": "stdout",
     "output_type": "stream",
     "text": [
      "enter number 153\n",
      "armstrong number \n"
     ]
    }
   ],
   "source": [
    "# solution:\n",
    "def solve(a):\n",
    "    c=0\n",
    "    while(a>0):\n",
    "        c+=(a%10)**3\n",
    "        a=a//10\n",
    "    return c\n",
    "        \n",
    "a=int(input(\"enter number \"))\n",
    "d=solve(a)\n",
    "if(a==d):\n",
    "    print(\"armstrong number \")\n",
    "else:\n",
    "    print(\"not a armstrong number\")"
   ]
  },
  {
   "cell_type": "markdown",
   "id": "44279651",
   "metadata": {},
   "source": [
    "# Question 5. Write a Python Program to Find Armstrong Number in an Interval?"
   ]
  },
  {
   "cell_type": "code",
   "execution_count": 14,
   "id": "2fdcc27c",
   "metadata": {},
   "outputs": [
    {
     "name": "stdout",
     "output_type": "stream",
     "text": [
      "enter value1 1\n",
      "enter value2 1000\n",
      "1\n",
      "153\n",
      "370\n",
      "371\n",
      "407\n"
     ]
    }
   ],
   "source": [
    "# solution:\n",
    "f=int(input(\"enter value1 \"))\n",
    "l=int(input(\"enter value2 \"))\n",
    "for i in range(f,l):\n",
    "    m=solve(i)\n",
    "    if(i==m):\n",
    "        print(i)"
   ]
  },
  {
   "cell_type": "markdown",
   "id": "0053c739",
   "metadata": {},
   "source": [
    "# Question 6. Write a Python Program to Find the Sum of Natural Numbers?"
   ]
  },
  {
   "cell_type": "code",
   "execution_count": 5,
   "id": "91fe433e",
   "metadata": {},
   "outputs": [
    {
     "name": "stdout",
     "output_type": "stream",
     "text": [
      "enter number 10\n",
      "55\n"
     ]
    }
   ],
   "source": [
    "# solution:\n",
    "a=int(input(\"enter number \"))\n",
    "a=(a*(a+1))//2\n",
    "print(a)"
   ]
  }
 ],
 "metadata": {
  "kernelspec": {
   "display_name": "Python 3 (ipykernel)",
   "language": "python",
   "name": "python3"
  },
  "language_info": {
   "codemirror_mode": {
    "name": "ipython",
    "version": 3
   },
   "file_extension": ".py",
   "mimetype": "text/x-python",
   "name": "python",
   "nbconvert_exporter": "python",
   "pygments_lexer": "ipython3",
   "version": "3.11.1"
  }
 },
 "nbformat": 4,
 "nbformat_minor": 5
}
