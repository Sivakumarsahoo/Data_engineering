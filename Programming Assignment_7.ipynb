{
 "cells": [
  {
   "cell_type": "markdown",
   "id": "0bca5f6f",
   "metadata": {},
   "source": [
    "#                                        Programming Assignment_7"
   ]
  },
  {
   "cell_type": "markdown",
   "id": "92a5fb96",
   "metadata": {},
   "source": [
    "# Question 1. Write a Python Program to find sum of array?"
   ]
  },
  {
   "cell_type": "code",
   "execution_count": 5,
   "id": "d4355491",
   "metadata": {},
   "outputs": [
    {
     "name": "stdout",
     "output_type": "stream",
     "text": [
      "36\n"
     ]
    }
   ],
   "source": [
    "# solution:\n",
    "list1=[1,2,3,4,5,6,7,8]\n",
    "print(sum(list1))"
   ]
  },
  {
   "cell_type": "markdown",
   "id": "1682af55",
   "metadata": {},
   "source": [
    "# Question 2. Write a Python Program to find largest element in an array?"
   ]
  },
  {
   "cell_type": "code",
   "execution_count": 2,
   "id": "fd0ff8f8",
   "metadata": {},
   "outputs": [
    {
     "name": "stdout",
     "output_type": "stream",
     "text": [
      "5\n"
     ]
    }
   ],
   "source": [
    "# solution:\n",
    "print(max(list1))"
   ]
  },
  {
   "cell_type": "markdown",
   "id": "553825b1",
   "metadata": {},
   "source": [
    "# Question 3. Write a Python Program for array rotation?"
   ]
  },
  {
   "cell_type": "code",
   "execution_count": 3,
   "id": "86207cff",
   "metadata": {},
   "outputs": [
    {
     "name": "stdout",
     "output_type": "stream",
     "text": [
      "[5, 4, 3, 2, 1]\n"
     ]
    }
   ],
   "source": [
    "# solution:\n",
    "print(list1[len(list1)-1::-1])"
   ]
  },
  {
   "cell_type": "markdown",
   "id": "a56354c1",
   "metadata": {},
   "source": [
    "# Question 4. Write a Python Program to Split the array and add the first part to the end?"
   ]
  },
  {
   "cell_type": "code",
   "execution_count": 6,
   "id": "0058998b",
   "metadata": {},
   "outputs": [
    {
     "name": "stdout",
     "output_type": "stream",
     "text": [
      "enter split index 2\n",
      "[3, 4, 5, 6, 7, 8, 1, 2]\n"
     ]
    }
   ],
   "source": [
    "# solution:\n",
    "a1=int(input(\"enter split index \"))\n",
    "a2=list1[:a1]\n",
    "list1=list1[a1:]\n",
    "list1.extend(a2)\n",
    "print(list1)"
   ]
  },
  {
   "cell_type": "markdown",
   "id": "1db7de47",
   "metadata": {},
   "source": [
    "# Question 5. Write a Python Program to check if given array is Monotonic?"
   ]
  },
  {
   "cell_type": "code",
   "execution_count": 15,
   "id": "1040e348",
   "metadata": {},
   "outputs": [
    {
     "name": "stdout",
     "output_type": "stream",
     "text": [
      "yes it is monotonic\n"
     ]
    }
   ],
   "source": [
    "# solution:\n",
    "list2=[123,43, 12, 2, -23,-345]\n",
    "list3=sorted(list2)\n",
    "list4=sorted(list2,reverse=True)\n",
    "if list2==list3 or list2==list4:\n",
    "    print(\"yes it is monotonic\")\n",
    "else:\n",
    "    print(\"not\")"
   ]
  },
  {
   "cell_type": "code",
   "execution_count": null,
   "id": "43230c81",
   "metadata": {},
   "outputs": [],
   "source": []
  }
 ],
 "metadata": {
  "kernelspec": {
   "display_name": "Python 3 (ipykernel)",
   "language": "python",
   "name": "python3"
  },
  "language_info": {
   "codemirror_mode": {
    "name": "ipython",
    "version": 3
   },
   "file_extension": ".py",
   "mimetype": "text/x-python",
   "name": "python",
   "nbconvert_exporter": "python",
   "pygments_lexer": "ipython3",
   "version": "3.11.1"
  }
 },
 "nbformat": 4,
 "nbformat_minor": 5
}
