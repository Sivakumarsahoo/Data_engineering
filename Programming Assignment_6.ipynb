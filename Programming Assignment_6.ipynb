{
 "cells": [
  {
   "cell_type": "markdown",
   "id": "9ae70204",
   "metadata": {},
   "source": [
    "#                              Programming Assignment_6"
   ]
  },
  {
   "cell_type": "markdown",
   "id": "f20b2171",
   "metadata": {},
   "source": [
    "# Question 1. Write a Python Program to Display Fibonacci Sequence Using Recursion?"
   ]
  },
  {
   "cell_type": "code",
   "execution_count": 3,
   "id": "8f729cd8",
   "metadata": {},
   "outputs": [
    {
     "name": "stdout",
     "output_type": "stream",
     "text": [
      "0 1 1 2 3 5 8 13 21 34 "
     ]
    }
   ],
   "source": [
    "# solution:\n",
    "def solve(a,b,c):\n",
    "    if c<1:\n",
    "        return\n",
    "    print(a,end=\" \")\n",
    "    d=a+b\n",
    "    a=b\n",
    "    b=d\n",
    "    c-=1\n",
    "    solve(a,b,c)\n",
    "    return\n",
    "solve(0,1,10)"
   ]
  },
  {
   "cell_type": "markdown",
   "id": "f7847868",
   "metadata": {},
   "source": [
    "# Question 2. Write a Python Program to Find Factorial of Number Using Recursion?"
   ]
  },
  {
   "cell_type": "code",
   "execution_count": 7,
   "id": "76506006",
   "metadata": {},
   "outputs": [
    {
     "name": "stdout",
     "output_type": "stream",
     "text": [
      "120\n"
     ]
    }
   ],
   "source": [
    "# solution:\n",
    "def solve(n):\n",
    "    if n==0:\n",
    "        return 1\n",
    "    return n*solve(n-1)\n",
    "\n",
    "print(solve(5))\n",
    "    "
   ]
  },
  {
   "cell_type": "markdown",
   "id": "12a63bb0",
   "metadata": {},
   "source": [
    "# Question 3. Write a Python Program to calculate your Body Mass Index?"
   ]
  },
  {
   "cell_type": "code",
   "execution_count": 9,
   "id": "83a6b4bb",
   "metadata": {},
   "outputs": [
    {
     "name": "stdout",
     "output_type": "stream",
     "text": [
      "enter your weight 60\n",
      "enter your height 1.7\n",
      "20.761245674740486\n"
     ]
    }
   ],
   "source": [
    "# solution:\n",
    "weight_kg=int(input(\"enter your weight \"))\n",
    "height_m=float(input(\"enter your height \"))\n",
    "print(weight_kg/(height_m)**2)"
   ]
  },
  {
   "cell_type": "markdown",
   "id": "dc799e6c",
   "metadata": {},
   "source": [
    "# Question 4. Write a Python Program to calculate the natural logarithm of any number?"
   ]
  },
  {
   "cell_type": "code",
   "execution_count": 12,
   "id": "9cf04741",
   "metadata": {},
   "outputs": [
    {
     "name": "stdout",
     "output_type": "stream",
     "text": [
      "Enter the number: 10\n",
      "2.302585092994046\n"
     ]
    }
   ],
   "source": [
    "# solution:\n",
    "import math\n",
    "num = int(input(\"Enter the number: \"))\n",
    "print(math.log(num))"
   ]
  },
  {
   "cell_type": "markdown",
   "id": "43911209",
   "metadata": {},
   "source": [
    "# Question 5. Write a Python Program for cube sum of first n natural numbers?"
   ]
  },
  {
   "cell_type": "code",
   "execution_count": 15,
   "id": "ef54d8f1",
   "metadata": {},
   "outputs": [
    {
     "name": "stdout",
     "output_type": "stream",
     "text": [
      "enter value 7\n",
      "21952\n"
     ]
    }
   ],
   "source": [
    "# solution:\n",
    "n=int(input(\"enter value \"))\n",
    "print(sum(range(1,n+1))**3)"
   ]
  }
 ],
 "metadata": {
  "kernelspec": {
   "display_name": "Python 3 (ipykernel)",
   "language": "python",
   "name": "python3"
  },
  "language_info": {
   "codemirror_mode": {
    "name": "ipython",
    "version": 3
   },
   "file_extension": ".py",
   "mimetype": "text/x-python",
   "name": "python",
   "nbconvert_exporter": "python",
   "pygments_lexer": "ipython3",
   "version": "3.11.1"
  }
 },
 "nbformat": 4,
 "nbformat_minor": 5
}
