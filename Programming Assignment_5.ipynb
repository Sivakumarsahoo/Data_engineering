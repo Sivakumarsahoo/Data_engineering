{
 "cells": [
  {
   "cell_type": "markdown",
   "id": "eb18d297",
   "metadata": {},
   "source": [
    "#                                   Programming Assignment_5"
   ]
  },
  {
   "cell_type": "markdown",
   "id": "c6d63f40",
   "metadata": {},
   "source": [
    "# Question 1. Write a Python Program to Find LCM?"
   ]
  },
  {
   "cell_type": "code",
   "execution_count": 4,
   "id": "4c4931ea",
   "metadata": {},
   "outputs": [
    {
     "name": "stdout",
     "output_type": "stream",
     "text": [
      "enter value 22\n",
      "enter value 7\n",
      "154\n"
     ]
    }
   ],
   "source": [
    "# solution:\n",
    "a1=int(input(\"enter value \"))\n",
    "a2=int(input(\"enter value \"))\n",
    "max=0\n",
    "if(a1>a2):\n",
    "    max=a1\n",
    "else:\n",
    "    max=a2\n",
    "while(True):\n",
    "    if(max%a1==0 and max%a2==0):\n",
    "        break\n",
    "    max+=1\n",
    "print(max)\n",
    "    "
   ]
  },
  {
   "cell_type": "markdown",
   "id": "fcd5f60f",
   "metadata": {},
   "source": [
    "# Question 2. Write a Python Program to Find HCF?"
   ]
  },
  {
   "cell_type": "code",
   "execution_count": 10,
   "id": "d94648c4",
   "metadata": {},
   "outputs": [
    {
     "name": "stdout",
     "output_type": "stream",
     "text": [
      "enter value 53\n",
      "enter value 33\n",
      "1\n"
     ]
    }
   ],
   "source": [
    "# solution:\n",
    "a1=int(input(\"enter value \"))\n",
    "a2=int(input(\"enter value \"))\n",
    "while(True):\n",
    "    if(a1==1 or a2==1):\n",
    "        print(1)\n",
    "        break\n",
    "    if(a1==0):\n",
    "        print(a2)\n",
    "        break\n",
    "    if(a2==0):\n",
    "        print(a1)\n",
    "        break\n",
    "    if(a1>a2):\n",
    "        a1=a1-a2\n",
    "    else:\n",
    "        a2=a2-a1"
   ]
  },
  {
   "cell_type": "markdown",
   "id": "0803e75b",
   "metadata": {},
   "source": [
    "#  Question 3. Write a Python Program to Convert Decimal to Binary, Octal and Hexadecimal?"
   ]
  },
  {
   "cell_type": "code",
   "execution_count": 18,
   "id": "42a03eee",
   "metadata": {},
   "outputs": [
    {
     "name": "stdout",
     "output_type": "stream",
     "text": [
      "enter value 8\n",
      "0b1000\n",
      "0o10\n",
      "0x8\n"
     ]
    }
   ],
   "source": [
    "# solution:\n",
    "a1=int(input(\"enter value \"))\n",
    "print(bin(a1))\n",
    "print(oct(a1))\n",
    "print(hex(a1))"
   ]
  },
  {
   "cell_type": "markdown",
   "id": "a560a0cd",
   "metadata": {},
   "source": [
    "# Question 4. Write a Python Program To Find ASCII value of a character?"
   ]
  },
  {
   "cell_type": "code",
   "execution_count": 24,
   "id": "b8a4db12",
   "metadata": {},
   "outputs": [
    {
     "name": "stdout",
     "output_type": "stream",
     "text": [
      "enter character b\n",
      "98\n"
     ]
    }
   ],
   "source": [
    "# solution:\n",
    "a1=input(\"enter character \")\n",
    "print(ord(a1))"
   ]
  },
  {
   "cell_type": "markdown",
   "id": "1db0500c",
   "metadata": {},
   "source": [
    "# Question 5. Write a Python Program to Make a Simple Calculator with 4 basic mathematical operations?"
   ]
  },
  {
   "cell_type": "code",
   "execution_count": 27,
   "id": "0b8ac896",
   "metadata": {},
   "outputs": [
    {
     "name": "stdout",
     "output_type": "stream",
     "text": [
      "enter value 1 20\n",
      "enter value 2 5\n",
      "choose one operation \n",
      "+ for addition\n",
      "- for subtraction\n",
      "* for multiplication\n",
      "/ for divison\n",
      "enter operation*\n",
      "100\n"
     ]
    }
   ],
   "source": [
    "# solution:\n",
    "a1=int(input(\"enter value 1 \"))\n",
    "a2=int(input(\"enter value 2 \"))\n",
    "print(\"choose one operation \")\n",
    "print(\"+ for addition\")\n",
    "print(\"- for subtraction\")\n",
    "print(\"* for multiplication\")\n",
    "print(\"/ for divison\")\n",
    "ch=input(\"enter operation \")\n",
    "if ch=='+':\n",
    "    print(a1+a2)\n",
    "elif ch=='-':\n",
    "    print(a1-a2)\n",
    "elif ch=='*':\n",
    "    print(a1*a2)\n",
    "else:\n",
    "    print(a1/a2)"
   ]
  },
  {
   "cell_type": "code",
   "execution_count": null,
   "id": "45488231",
   "metadata": {},
   "outputs": [],
   "source": []
  }
 ],
 "metadata": {
  "kernelspec": {
   "display_name": "Python 3 (ipykernel)",
   "language": "python",
   "name": "python3"
  },
  "language_info": {
   "codemirror_mode": {
    "name": "ipython",
    "version": 3
   },
   "file_extension": ".py",
   "mimetype": "text/x-python",
   "name": "python",
   "nbconvert_exporter": "python",
   "pygments_lexer": "ipython3",
   "version": "3.11.1"
  }
 },
 "nbformat": 4,
 "nbformat_minor": 5
}
