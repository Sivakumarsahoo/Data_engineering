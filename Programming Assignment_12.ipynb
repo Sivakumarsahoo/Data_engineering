{
 "cells": [
  {
   "cell_type": "markdown",
   "id": "113d7865",
   "metadata": {},
   "source": [
    "Question 1. Write a Python program to Extract Unique values dictionary values?"
   ]
  },
  {
   "cell_type": "code",
   "execution_count": 21,
   "id": "5dfab10f",
   "metadata": {},
   "outputs": [
    {
     "name": "stdout",
     "output_type": "stream",
     "text": [
      "<class 'set'>\n",
      "{1, 1234, 'hello'}\n"
     ]
    }
   ],
   "source": [
    "# solution:\n",
    "dict1 = {'k1': 1, 'k2': 1, 'k3': 'hello', 'k4': 'hello', 'k5':1234}\n",
    "a=set()\n",
    "for i in dict1.values():\n",
    "    a.add(i)\n",
    "print(a)"
   ]
  },
  {
   "cell_type": "markdown",
   "id": "4c29b25a",
   "metadata": {},
   "source": [
    "Question 2. Write a Python program to find the sum of all items in a dictionary?"
   ]
  },
  {
   "cell_type": "code",
   "execution_count": 22,
   "id": "7bc494c7",
   "metadata": {},
   "outputs": [
    {
     "name": "stdout",
     "output_type": "stream",
     "text": [
      "328\n"
     ]
    }
   ],
   "source": [
    "# solution:\n",
    "dict2 = {'k1' : 89,\n",
    "             'k2' : 111,\n",
    "             'k3' : 123,\n",
    "             'k4' : 5}\n",
    "sum=0\n",
    "for i in dict2.values():\n",
    "    sum+=i\n",
    "print(sum)"
   ]
  },
  {
   "cell_type": "markdown",
   "id": "9ea03db2",
   "metadata": {},
   "source": [
    "Question 3. Write a Python program to Merging two Dictionaries?"
   ]
  },
  {
   "cell_type": "code",
   "execution_count": 6,
   "id": "7ee7f868",
   "metadata": {},
   "outputs": [
    {
     "name": "stdout",
     "output_type": "stream",
     "text": [
      "{'x': 1, 'l': 2, 'k': 3, 'z': 4}\n",
      "{'x': 11, 'l': 2, 'k': 3, 'z': 4}\n"
     ]
    }
   ],
   "source": [
    "# solution:\n",
    "dict1 = { 'x': 1, 'l': 2}\n",
    "dict2 = { 'k': 3, 'z': 4, 'x': 11}\n",
    "for i ,v in dict2.items():\n",
    "    dict1.setdefault(i,v)\n",
    "print(dict1)\n",
    "\n",
    "\n",
    "\n",
    "\n",
    "dict1 = { 'x': 1, 'l': 2}\n",
    "dict2 = { 'k': 3, 'z': 4, 'x': 11}\n",
    "for i ,v in dict2.items():\n",
    "    dict1.update({i:v})\n",
    "print(dict1)"
   ]
  },
  {
   "cell_type": "markdown",
   "id": "81eec1da",
   "metadata": {},
   "source": [
    "Question 4. Write a Python program to convert key-values list to flat dictionary?"
   ]
  },
  {
   "cell_type": "code",
   "execution_count": 8,
   "id": "69c27ec1",
   "metadata": {},
   "outputs": [
    {
     "name": "stdout",
     "output_type": "stream",
     "text": [
      "{1: 'Jan', 2: 'Feb', 3: 'March'}\n"
     ]
    }
   ],
   "source": [
    "# solution:\n",
    "test_dict = {'month' : [1, 2, 3], 'name' : ['Jan', 'Feb', 'March']}\n",
    "print(dict(zip(test_dict['month'], test_dict['name'])))"
   ]
  },
  {
   "cell_type": "markdown",
   "id": "43da9ef7",
   "metadata": {},
   "source": [
    "Question 5. Write a Python program to insertion at the beginning in OrderedDict?"
   ]
  },
  {
   "cell_type": "code",
   "execution_count": 15,
   "id": "50c1b28a",
   "metadata": {},
   "outputs": [
    {
     "name": "stdout",
     "output_type": "stream",
     "text": [
      "OrderedDict([('jan', 1), ('feb', '2'), ('mar', '3')])\n"
     ]
    }
   ],
   "source": [
    "# solution:\n",
    "from collections import OrderedDict\n",
    "x=OrderedDict()\n",
    "x['feb']='2'\n",
    "x['mar']='3'\n",
    "x.update({'jan':1})\n",
    "x.move_to_end('jan',last=False)\n",
    "print(x)"
   ]
  },
  {
   "cell_type": "markdown",
   "id": "7ce8769e",
   "metadata": {},
   "source": [
    "Question 6. Write a Python program to check order of character in string using OrderedDict()?"
   ]
  },
  {
   "cell_type": "code",
   "execution_count": 25,
   "id": "ef1ded31",
   "metadata": {},
   "outputs": [
    {
     "name": "stdout",
     "output_type": "stream",
     "text": [
      "enter string : ekbkskd\n",
      "Enter Pattern : ;snns\n",
      "OrderedDict([('e', None), ('k', None), ('b', None), ('s', None), ('d', None)])\n",
      "Pattern not matched\n"
     ]
    }
   ],
   "source": [
    "# solution:\n",
    "from collections import OrderedDict \n",
    "  \n",
    "def checkOrderofString(str, pattern): \n",
    "\n",
    "    dict = OrderedDict.fromkeys(str) \n",
    "    print(dict)\n",
    "    ptrlen = 0\n",
    "    for key,value in dict.items(): \n",
    "        \n",
    "        if (key == pattern[ptrlen]): \n",
    "            ptrlen = ptrlen + 1\n",
    "\n",
    "        if (ptrlen == (len(pattern))):            \n",
    "            return True\n",
    "        \n",
    "    return False\n",
    "  \n",
    "\n",
    "string = input(\"enter string : \")\n",
    "pattern = input(\"Enter Pattern : \")\n",
    "if checkOrderofString(string,pattern):\n",
    "    print(\"Pattern matched\")\n",
    "else:\n",
    "    print(\"Pattern not matched\")"
   ]
  },
  {
   "cell_type": "markdown",
   "id": "7d126523",
   "metadata": {},
   "source": [
    "Question 7. Write a Python program to sort Python Dictionaries by Key or Value?"
   ]
  },
  {
   "cell_type": "code",
   "execution_count": 24,
   "id": "d4e0100a",
   "metadata": {},
   "outputs": [
    {
     "name": "stdout",
     "output_type": "stream",
     "text": [
      "[('k', 3), ('x', 11), ('z', 4)]\n",
      "['k', 'x', 'z']\n",
      "[3, 4, 11]\n"
     ]
    }
   ],
   "source": [
    "# solution:\n",
    "print(sorted(dict2.items()))\n",
    "print(sorted(dict2.keys()))\n",
    "print(sorted(dict2.values()))"
   ]
  },
  {
   "cell_type": "code",
   "execution_count": null,
   "id": "cd54c183",
   "metadata": {},
   "outputs": [],
   "source": []
  }
 ],
 "metadata": {
  "kernelspec": {
   "display_name": "Python 3 (ipykernel)",
   "language": "python",
   "name": "python3"
  },
  "language_info": {
   "codemirror_mode": {
    "name": "ipython",
    "version": 3
   },
   "file_extension": ".py",
   "mimetype": "text/x-python",
   "name": "python",
   "nbconvert_exporter": "python",
   "pygments_lexer": "ipython3",
   "version": "3.11.1"
  }
 },
 "nbformat": 4,
 "nbformat_minor": 5
}
