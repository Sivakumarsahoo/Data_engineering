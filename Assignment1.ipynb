{
 "cells": [
  {
   "cell_type": "code",
   "execution_count": null,
   "id": "949959b2",
   "metadata": {},
   "outputs": [],
   "source": [
    "# Question 1. Why do we call Python as a general purpose and high-level programming language?\n",
    "# solution:\n",
    "#     general purpose programming language that is used in most of the domain\n",
    "    "
   ]
  },
  {
   "cell_type": "code",
   "execution_count": null,
   "id": "8e0f83fa",
   "metadata": {},
   "outputs": [],
   "source": [
    "# Question 2. Why is Python called a dynamically typed language?\n",
    "# solution:\n",
    "#     because type of variable is determined only during runtime"
   ]
  },
  {
   "cell_type": "code",
   "execution_count": null,
   "id": "473a4559",
   "metadata": {},
   "outputs": [],
   "source": [
    "# Question 3. List some pros and cons of Python programming language?\n",
    "# solution:\n",
    "#     pros- extensive libraries\n",
    "#            huge community\n",
    "#     cons- slower than compiled language\n",
    "#           more memory consumption"
   ]
  },
  {
   "cell_type": "code",
   "execution_count": null,
   "id": "d97d0e83",
   "metadata": {},
   "outputs": [],
   "source": [
    "# Question 4. In what all domains can we use Python?\n",
    "# solution:\n",
    "#     data engineering\n",
    "#     web development\n",
    "#     data science\n",
    "#     data analyst\n",
    "#     artifical intelligence\n",
    "#     machine learning"
   ]
  },
  {
   "cell_type": "code",
   "execution_count": null,
   "id": "c2c02f72",
   "metadata": {},
   "outputs": [],
   "source": [
    "# Question 5:What are variable and how can we declare them?\n",
    "# Solution:\n",
    "# variable is a name for a particular location,\n",
    "# there are some rule for declaring a variable like=\n",
    "#     1. first letter should be alphabet or underscore nothing else\n",
    "#     2. after first letter we can also use numbers but not special character(like spaces) \n",
    "#      eg- a=34, df2=7.9, s_t=\"hello\"\n",
    "         \n"
   ]
  },
  {
   "cell_type": "code",
   "execution_count": 1,
   "id": "b4bb16aa",
   "metadata": {},
   "outputs": [
    {
     "name": "stdout",
     "output_type": "stream",
     "text": [
      "enter your name siva\n",
      "siva\n"
     ]
    }
   ],
   "source": [
    "# Question 6. How can we take an input from the user in Python?\n",
    "# solution:\n",
    "name=input(\"enter your name \")\n",
    "print(name)"
   ]
  },
  {
   "cell_type": "code",
   "execution_count": 2,
   "id": "ceb00ae9",
   "metadata": {},
   "outputs": [
    {
     "name": "stdout",
     "output_type": "stream",
     "text": [
      "enter values2\n",
      "<class 'str'>\n"
     ]
    }
   ],
   "source": [
    "# Question 7. What is the default datatype of the value that has been taken as an input using input() function?\n",
    "# solution:\n",
    "a=input(\"enter values\")\n",
    "print(type(a))\n",
    "\n",
    "# so it is a string\n"
   ]
  },
  {
   "cell_type": "code",
   "execution_count": 3,
   "id": "db037ce3",
   "metadata": {
    "scrolled": true
   },
   "outputs": [
    {
     "name": "stdout",
     "output_type": "stream",
     "text": [
      "enter values 2\n",
      "2\n",
      "<class 'str'>\n",
      "2\n",
      "<class 'int'>\n"
     ]
    }
   ],
   "source": [
    "# Question 8. What is type casting?\n",
    "# solution:\n",
    "# type casting means converting from one data type into another data type like\n",
    "a=input(\"enter values \")\n",
    "print(a)\n",
    "print(type(a))\n",
    "a=int(a)\n",
    "print(a)\n",
    "print(type(a))"
   ]
  },
  {
   "cell_type": "code",
   "execution_count": null,
   "id": "792d2b7c",
   "metadata": {},
   "outputs": [],
   "source": [
    "# Question 9. Can we take more than one input from the user using single input() function? If yes, how? If no, why?\n",
    "# solution:NO\n",
    "#     because we can store only one value at one particular loaction\n",
    "    \n",
    "    "
   ]
  },
  {
   "cell_type": "code",
   "execution_count": null,
   "id": "40621fba",
   "metadata": {},
   "outputs": [],
   "source": [
    "#  Question 10. What are keywords?\n",
    "#  Solution:\n",
    "#  keywords are the special word that have a specific meaning and purpose\n",
    "#     like- while,for,if"
   ]
  },
  {
   "cell_type": "code",
   "execution_count": null,
   "id": "22c41340",
   "metadata": {},
   "outputs": [],
   "source": [
    "# Question 11. Can we use keywords as a variable? Support your answer with reason.\n",
    "# solution:\n",
    "#     NO\n",
    "#     because they are already having some specific meaning and we can't store any random values"
   ]
  },
  {
   "cell_type": "code",
   "execution_count": null,
   "id": "356e8483",
   "metadata": {},
   "outputs": [],
   "source": [
    "#  Question 12. What is indentation? What's the use of indentaion in Python?\n",
    "#  solution:\n",
    "#  indentation means 4 spaces before your code\n",
    "#  uses:-\n",
    "#      increase readability\n",
    "#     and also use for identify block strucutre because in python curly braces{} are not present\n",
    "    "
   ]
  },
  {
   "cell_type": "code",
   "execution_count": 19,
   "id": "16f4a08c",
   "metadata": {},
   "outputs": [
    {
     "name": "stdout",
     "output_type": "stream",
     "text": [
      "hello world \n"
     ]
    }
   ],
   "source": [
    "# Question 13. How can we throw some output in Python?\n",
    "# solution:\n",
    "print(\"hello world \")"
   ]
  },
  {
   "cell_type": "code",
   "execution_count": null,
   "id": "0860e7da",
   "metadata": {},
   "outputs": [],
   "source": [
    "# Question 14. What are operators in Python?\n",
    "# solution:\n",
    "#     logical operator\n",
    "#     assignment operator\n",
    "#     comparison operator\n",
    "#     arithmetic operator\n",
    "#     identity operator(is ,is not)\n",
    "#     membership operator(in ,not in)\n",
    "#     bitwise operator\n",
    "    "
   ]
  },
  {
   "cell_type": "code",
   "execution_count": 17,
   "id": "0c618fa3",
   "metadata": {},
   "outputs": [
    {
     "name": "stdout",
     "output_type": "stream",
     "text": [
      "1.6666666666666667\n",
      "1\n"
     ]
    }
   ],
   "source": [
    "# Question 15. What is difference between / and // operators?\n",
    "# solution:\n",
    "# /=> give floating result\n",
    "print(5/3)\n",
    "# //=>give integer result\n",
    "print(5//3)"
   ]
  },
  {
   "cell_type": "code",
   "execution_count": 16,
   "id": "93647c6c",
   "metadata": {},
   "outputs": [
    {
     "name": "stdout",
     "output_type": "stream",
     "text": [
      "iNeuroniNeuroniNeuroniNeuron\n"
     ]
    }
   ],
   "source": [
    "# Question 16. Write a code that gives following as an output.\n",
    "# ```\n",
    "# iNeuroniNeuroniNeuroniNeuron\n",
    "# ```\n",
    "# solution:\n",
    "print(\"iNeuron\"*4)"
   ]
  },
  {
   "cell_type": "code",
   "execution_count": 14,
   "id": "6da63f6e",
   "metadata": {},
   "outputs": [
    {
     "name": "stdout",
     "output_type": "stream",
     "text": [
      "enter value98\n",
      "even\n"
     ]
    }
   ],
   "source": [
    "# Question 17. Write a code to take a number as an input from the user and check if the number is odd or even.\n",
    "# solution:\n",
    "number1=int(input(\"enter value \"))\n",
    "if number1%2==0:\n",
    "    print(\"even\")\n",
    "else:\n",
    "    print(\"odd\")"
   ]
  },
  {
   "cell_type": "code",
   "execution_count": null,
   "id": "26867725",
   "metadata": {},
   "outputs": [],
   "source": [
    "# Question 18. What are boolean operator?\n",
    "# solution:\n",
    "#     three boolean or logical operator\n",
    "#     and\n",
    "#     or\n",
    "#     not"
   ]
  },
  {
   "cell_type": "code",
   "execution_count": null,
   "id": "90987c82",
   "metadata": {},
   "outputs": [],
   "source": [
    "# Question 19. What will the output of the following?\n",
    "# ```\n",
    "# 1 or 0\n",
    "\n",
    "# 0 and 0\n",
    "\n",
    "# True and False and True\n",
    "\n",
    "# 1 or 0 or 0\n",
    "# ```\n",
    "# solution:\n",
    "# 1\n",
    "# 0\n",
    "# False\n",
    "# 1"
   ]
  },
  {
   "cell_type": "code",
   "execution_count": null,
   "id": "4a357348",
   "metadata": {},
   "outputs": [],
   "source": [
    "# Question 20. What are conditional statements in Python?\n",
    "# solution:\n",
    "#     if\n",
    "#     if else\n",
    "#     elif\n",
    "#     nested if\n",
    "#     nested if else"
   ]
  },
  {
   "cell_type": "code",
   "execution_count": null,
   "id": "9b7ad29a",
   "metadata": {},
   "outputs": [],
   "source": [
    "# Question 21. What is use of 'if', 'elif' and 'else' keywords?\n",
    "# solution:\n",
    "# these keyword is use for checking a particular condition\n",
    "# if IF condition is true then print IF statement\n",
    "# otherwise print ELSE statement\n",
    "# ELIF is used when if else ladder is there\n"
   ]
  },
  {
   "cell_type": "code",
   "execution_count": 10,
   "id": "e4fcb141",
   "metadata": {},
   "outputs": [
    {
     "name": "stdout",
     "output_type": "stream",
     "text": [
      "enter your age 21\n",
      "I can vote\n"
     ]
    }
   ],
   "source": [
    "# Question 22. Write a code to take the age of person as an input and if age >= 18 display \"I can vote\". If age is < 18 display \"I can't vote\".\n",
    "# solution:\n",
    "age=int(input(\"enter your age \"))\n",
    "if age>=18:\n",
    "    print(\"I can vote\")\n",
    "else:\n",
    "    print(\"I can't vote\")"
   ]
  },
  {
   "cell_type": "code",
   "execution_count": 9,
   "id": "e912207d",
   "metadata": {},
   "outputs": [
    {
     "name": "stdout",
     "output_type": "stream",
     "text": [
      "392\n"
     ]
    }
   ],
   "source": [
    "# Question 23. Write a code that displays the sum of all the even numbers from the given list.\n",
    "# ```\n",
    "# numbers = [12, 75, 150, 180, 145, 525, 50]\n",
    "# solution:\n",
    "sum=0\n",
    "numbers = [12, 75, 150, 180, 145, 525, 50]\n",
    "for value in numbers:\n",
    "    if value%2==0:\n",
    "        sum+=value\n",
    "print(sum)\n",
    "    \n"
   ]
  },
  {
   "cell_type": "code",
   "execution_count": 8,
   "id": "324103cb",
   "metadata": {},
   "outputs": [
    {
     "name": "stdout",
     "output_type": "stream",
     "text": [
      "enter value 1 1 \n",
      "enter value 2 2\n",
      "enter value 3 3\n",
      "3\n",
      "3\n"
     ]
    }
   ],
   "source": [
    "\n",
    "# Questioon 24. Write a code to take 3 numbers as an input from the user and display the greatest no as output.\n",
    "# solution:\n",
    "value1=int(input(\"enter value 1 \"))\n",
    "value2=int(input(\"enter value 2 \"))\n",
    "value3=int(input(\"enter value 3 \"))\n",
    "# print(max(value1,value2,value3))\n",
    "if value1>value2:\n",
    "    if value1>value3:\n",
    "        print(value1)\n",
    "    else:\n",
    "        print(value3)\n",
    "else:\n",
    "    if value2>value3:\n",
    "        print(value2)\n",
    "    else:\n",
    "        print(value3)"
   ]
  },
  {
   "cell_type": "code",
   "execution_count": 4,
   "id": "be9fd5ee",
   "metadata": {},
   "outputs": [
    {
     "name": "stdout",
     "output_type": "stream",
     "text": [
      "75\n",
      "150\n",
      "180\n",
      "145\n"
     ]
    }
   ],
   "source": [
    "# Question 25. Write a program to display only those numbers from a list that satisfy the following conditions\n",
    "\n",
    "# - The number must be divisible by five\n",
    "\n",
    "# - If the number is greater than 150, then skip it and move to the next number\n",
    "\n",
    "# - If the number is greater than 500, then stop the loop\n",
    "# ```\n",
    "# numbers = [12, 75, 150, 180, 145, 525, 50]\n",
    "# solution:\n",
    "numbers=[12,75,150,180,145,525,50]\n",
    "for value in numbers:\n",
    "    if value>500:\n",
    "        break\n",
    "    elif value%5==0:\n",
    "        print(value)\n",
    "    else:\n",
    "        continue"
   ]
  }
 ],
 "metadata": {
  "kernelspec": {
   "display_name": "Python 3 (ipykernel)",
   "language": "python",
   "name": "python3"
  },
  "language_info": {
   "codemirror_mode": {
    "name": "ipython",
    "version": 3
   },
   "file_extension": ".py",
   "mimetype": "text/x-python",
   "name": "python",
   "nbconvert_exporter": "python",
   "pygments_lexer": "ipython3",
   "version": "3.11.1"
  }
 },
 "nbformat": 4,
 "nbformat_minor": 5
}
