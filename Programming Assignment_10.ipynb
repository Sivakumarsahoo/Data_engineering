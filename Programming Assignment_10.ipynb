{
 "cells": [
  {
   "cell_type": "markdown",
   "id": "d605123f",
   "metadata": {},
   "source": [
    "Question 1. Write a Python program to find sum of elements in list?"
   ]
  },
  {
   "cell_type": "code",
   "execution_count": 5,
   "id": "d52dadb0",
   "metadata": {},
   "outputs": [
    {
     "name": "stdout",
     "output_type": "stream",
     "text": [
      "25\n"
     ]
    }
   ],
   "source": [
    "# solution:\n",
    "a=[11,2,3,4,5]\n",
    "sum=0\n",
    "for i in a:\n",
    "    sum+=i\n",
    "print(sum)"
   ]
  },
  {
   "cell_type": "markdown",
   "id": "ebfbd659",
   "metadata": {},
   "source": [
    "Question 2. Write a Python program to  Multiply all numbers in the list?"
   ]
  },
  {
   "cell_type": "code",
   "execution_count": 6,
   "id": "a7ba8761",
   "metadata": {},
   "outputs": [
    {
     "name": "stdout",
     "output_type": "stream",
     "text": [
      "1320\n"
     ]
    }
   ],
   "source": [
    "# solution:\n",
    "mul=1\n",
    "for i in a:\n",
    "    mul*=i\n",
    "print(mul)"
   ]
  },
  {
   "cell_type": "markdown",
   "id": "38e893fc",
   "metadata": {},
   "source": [
    "Question 3. Write a Python program to find smallest number in a list?"
   ]
  },
  {
   "cell_type": "code",
   "execution_count": 7,
   "id": "fbf51254",
   "metadata": {},
   "outputs": [
    {
     "name": "stdout",
     "output_type": "stream",
     "text": [
      "2\n"
     ]
    }
   ],
   "source": [
    "# solution:\n",
    "print(min(a))"
   ]
  },
  {
   "cell_type": "markdown",
   "id": "85e801a7",
   "metadata": {},
   "source": [
    "Question 4. Write a Python program to find largest number in a list?"
   ]
  },
  {
   "cell_type": "code",
   "execution_count": 8,
   "id": "1b703c01",
   "metadata": {},
   "outputs": [
    {
     "name": "stdout",
     "output_type": "stream",
     "text": [
      "11\n"
     ]
    }
   ],
   "source": [
    "# solution:\n",
    "print(max(a))"
   ]
  },
  {
   "cell_type": "markdown",
   "id": "fb4cd23b",
   "metadata": {},
   "source": [
    "Question 5. Write a Python program to find second largest number in a list?"
   ]
  },
  {
   "cell_type": "code",
   "execution_count": 13,
   "id": "6f0c2670",
   "metadata": {},
   "outputs": [
    {
     "name": "stdout",
     "output_type": "stream",
     "text": [
      "5\n"
     ]
    }
   ],
   "source": [
    "# solution:\n",
    "def solve (x):\n",
    "    a.sort(reverse=True)\n",
    "    print(a[x-1])\n",
    "\n",
    "solve(2)"
   ]
  },
  {
   "cell_type": "markdown",
   "id": "48435a38",
   "metadata": {},
   "source": [
    "Question 6. Write a Python program to find N largest elements from a list?"
   ]
  },
  {
   "cell_type": "code",
   "execution_count": 14,
   "id": "18a7ade0",
   "metadata": {},
   "outputs": [
    {
     "name": "stdout",
     "output_type": "stream",
     "text": [
      "4\n"
     ]
    }
   ],
   "source": [
    "# solution:\n",
    "solve(3)"
   ]
  },
  {
   "cell_type": "markdown",
   "id": "f2b12a44",
   "metadata": {},
   "source": [
    "Question 7. Write a Python program to print even numbers in a list?"
   ]
  },
  {
   "cell_type": "code",
   "execution_count": 20,
   "id": "89aeae77",
   "metadata": {},
   "outputs": [
    {
     "name": "stdout",
     "output_type": "stream",
     "text": [
      "4 2 "
     ]
    }
   ],
   "source": [
    "# solution:\n",
    "for i in a:\n",
    "    if i%2==0:\n",
    "        print(i,end=\" \")\n"
   ]
  },
  {
   "cell_type": "markdown",
   "id": "92612273",
   "metadata": {},
   "source": [
    "Question 8. Write a Python program to print odd numbers in a List?"
   ]
  },
  {
   "cell_type": "code",
   "execution_count": 21,
   "id": "e8b63032",
   "metadata": {},
   "outputs": [
    {
     "name": "stdout",
     "output_type": "stream",
     "text": [
      "11 5 3 "
     ]
    }
   ],
   "source": [
    "# solution:\n",
    "for i in a:\n",
    "    if i%2!=0:\n",
    "        print(i,end=\" \")"
   ]
  },
  {
   "cell_type": "markdown",
   "id": "c121c324",
   "metadata": {},
   "source": [
    "Question 9. Write a Python program to Remove empty List from List?"
   ]
  },
  {
   "cell_type": "code",
   "execution_count": 46,
   "id": "53122309",
   "metadata": {},
   "outputs": [
    {
     "name": "stdout",
     "output_type": "stream",
     "text": [
      "[12, 31, [1, 2, -23], [1], [123.23], 2, 321]\n"
     ]
    }
   ],
   "source": [
    "# solution:\n",
    "l = [[], 12, 31, [1,2, -23] , [1], [], [123.23], [], 2, 321]\n",
    "for i in l:\n",
    "    if type(i)==list:\n",
    "        if len(i)==0:\n",
    "            l.remove(i)\n",
    "        \n",
    "\n",
    "print(l)"
   ]
  },
  {
   "cell_type": "markdown",
   "id": "6a57f713",
   "metadata": {},
   "source": [
    "Question 10. Write a Python program to Cloning or Copying a list?"
   ]
  },
  {
   "cell_type": "code",
   "execution_count": 47,
   "id": "5adc280b",
   "metadata": {},
   "outputs": [
    {
     "name": "stdout",
     "output_type": "stream",
     "text": [
      "[31, [1, 2, -23], [1], [123.23], 2, 321]\n",
      "[12, 31, [1, 2, -23], [1], [123.23], 2, 321]\n"
     ]
    }
   ],
   "source": [
    "# solution:\n",
    "l2=l[:]\n",
    "l2.remove(12)\n",
    "print(l2)\n",
    "print(l)"
   ]
  },
  {
   "cell_type": "markdown",
   "id": "dcc95e53",
   "metadata": {},
   "source": [
    "Question 11. Write a Python program to Count occurrences of an element in a list?"
   ]
  },
  {
   "cell_type": "code",
   "execution_count": 49,
   "id": "cd2a700b",
   "metadata": {},
   "outputs": [
    {
     "name": "stdout",
     "output_type": "stream",
     "text": [
      "1\n"
     ]
    }
   ],
   "source": [
    "# solution:\n",
    "\n",
    "def solve1(p):\n",
    "    m=[1,2,2,3,4,1,1,5,3]\n",
    "    count=0\n",
    "    for i in m:\n",
    "        if i==p:\n",
    "            count+=1\n",
    "    print(count)\n",
    "\n",
    "solve1(5)"
   ]
  },
  {
   "cell_type": "code",
   "execution_count": null,
   "id": "dca8369d",
   "metadata": {},
   "outputs": [],
   "source": []
  }
 ],
 "metadata": {
  "kernelspec": {
   "display_name": "Python 3 (ipykernel)",
   "language": "python",
   "name": "python3"
  },
  "language_info": {
   "codemirror_mode": {
    "name": "ipython",
    "version": 3
   },
   "file_extension": ".py",
   "mimetype": "text/x-python",
   "name": "python",
   "nbconvert_exporter": "python",
   "pygments_lexer": "ipython3",
   "version": "3.11.1"
  }
 },
 "nbformat": 4,
 "nbformat_minor": 5
}
