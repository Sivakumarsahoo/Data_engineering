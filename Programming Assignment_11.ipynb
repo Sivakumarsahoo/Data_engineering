{
 "cells": [
  {
   "cell_type": "markdown",
   "id": "e827b2dc",
   "metadata": {},
   "source": [
    "Question 1. Write a Python program to find words which are greater than given length k?"
   ]
  },
  {
   "cell_type": "code",
   "execution_count": 1,
   "id": "225fdb29",
   "metadata": {},
   "outputs": [
    {
     "name": "stdout",
     "output_type": "stream",
     "text": [
      "hello\n",
      "aaree\n"
     ]
    }
   ],
   "source": [
    "# solution:\n",
    "l=['hello','how','aaree','you']\n",
    "k=3\n",
    "for i in l:\n",
    "    if len(i)>k:\n",
    "        print(i)"
   ]
  },
  {
   "cell_type": "markdown",
   "id": "893ae3bf",
   "metadata": {},
   "source": [
    "Question 2. Write a Python program for removing i-th character from a string?"
   ]
  },
  {
   "cell_type": "code",
   "execution_count": 10,
   "id": "446f1d62",
   "metadata": {},
   "outputs": [
    {
     "name": "stdout",
     "output_type": "stream",
     "text": [
      "vhhvfhv\n"
     ]
    }
   ],
   "source": [
    "# solution:\n",
    "m=\"vhfhvfhv\"\n",
    "i=2\n",
    "m=m[0:i]+m[i+1:]\n",
    "print(m)\n",
    "\n"
   ]
  },
  {
   "cell_type": "markdown",
   "id": "c14a1068",
   "metadata": {},
   "source": [
    "Question 3. Write a Python program to split and join a string?"
   ]
  },
  {
   "cell_type": "code",
   "execution_count": 14,
   "id": "d1ba4b92",
   "metadata": {},
   "outputs": [
    {
     "name": "stdout",
     "output_type": "stream",
     "text": [
      "['hello', 'how', 'are', 'you', 'boy']\n",
      "hello how are you boy\n"
     ]
    }
   ],
   "source": [
    "# solution:\n",
    "a=\"hello how are you boy\"\n",
    "a=a.split(\" \")\n",
    "print(a)\n",
    "a=\" \".join(a)\n",
    "print(a)"
   ]
  },
  {
   "cell_type": "markdown",
   "id": "541a2465",
   "metadata": {},
   "source": [
    "Question 4. Write a Python to check if a given string is binary string or not?"
   ]
  },
  {
   "cell_type": "code",
   "execution_count": 18,
   "id": "5b2c8fbd",
   "metadata": {},
   "outputs": [
    {
     "name": "stdout",
     "output_type": "stream",
     "text": [
      "no\n"
     ]
    }
   ],
   "source": [
    "# solution:\n",
    "a=\"01w1101\"\n",
    "for i in a:\n",
    "    if i!='0' and i!='1':\n",
    "        print(\"no\")\n",
    "        break\n",
    "else:\n",
    "    print(\"yes\")\n",
    "        \n"
   ]
  },
  {
   "cell_type": "markdown",
   "id": "a2c1185a",
   "metadata": {},
   "source": [
    "Question 5. Write a Python program to find uncommon words from two Strings?"
   ]
  },
  {
   "cell_type": "code",
   "execution_count": 21,
   "id": "57d5c612",
   "metadata": {},
   "outputs": [
    {
     "name": "stdout",
     "output_type": "stream",
     "text": [
      "{'Strings', 'split', 'join', 'uncommon', 'two', 'string', 'words', 'find', 'from', 'and'}\n"
     ]
    }
   ],
   "source": [
    "# solution:\n",
    "string1 = \"Write a Python program to split and join a string\"\n",
    "string1=string1.split(\" \")\n",
    "string2 = \"Write a Python program to find uncommon words from two Strings\"\n",
    "string2=string2.split(\" \")\n",
    "ans=[]\n",
    "for i in string1:\n",
    "    if i not in string2:\n",
    "        ans.append(i)\n",
    "for i in string2:\n",
    "    if i not in string1:\n",
    "        ans.append(i)\n",
    "print(set(ans))"
   ]
  },
  {
   "cell_type": "markdown",
   "id": "c1e07acd",
   "metadata": {},
   "source": [
    "Question 6. Write a Python to find all duplicate characters in string?"
   ]
  },
  {
   "cell_type": "code",
   "execution_count": 26,
   "id": "647a7ac4",
   "metadata": {},
   "outputs": [
    {
     "name": "stdout",
     "output_type": "stream",
     "text": [
      "['d', 'i', 'P', 't', 'g', 'W', 'y', 'o', 's', 'n', 'r', 'a', 'e', 'm', 'j', 'l', 'p', ' ', 'h']\n"
     ]
    }
   ],
   "source": [
    "# solution:\n",
    "string1 = \"Write a Python program to split and join a string\"\n",
    "ans=[]\n",
    "for i in string1:\n",
    "    if string1.count('i')>1:\n",
    "        ans.append(i)\n",
    "print(list(set(ans)))"
   ]
  },
  {
   "cell_type": "markdown",
   "id": "d04e0b70",
   "metadata": {},
   "source": [
    "Question 7. Write a Python Program to check if a string contains any special character?"
   ]
  },
  {
   "cell_type": "code",
   "execution_count": 3,
   "id": "af266f7c",
   "metadata": {},
   "outputs": [
    {
     "name": "stdout",
     "output_type": "stream",
     "text": [
      "Enter a string: dgdg#&\n",
      "['#', '&']\n",
      "Given string contains special characters\n"
     ]
    }
   ],
   "source": [
    "# solution:\n",
    "import re\n",
    "string = input(\"Enter a string: \")\n",
    "regex = re.compile('[@_!#$%^&*()<>?/\\|}{~:]')  \n",
    "print(regex.findall(string))\n",
    "\n",
    "if(regex.search(string) == None):\n",
    "    print(\"Given string does not contain special characters\")\n",
    "else:\n",
    "    print(\"Given string contains special characters\")"
   ]
  },
  {
   "cell_type": "code",
   "execution_count": 42,
   "id": "26747795",
   "metadata": {},
   "outputs": [
    {
     "name": "stdout",
     "output_type": "stream",
     "text": [
      "no\n"
     ]
    }
   ],
   "source": [
    "# solution:\n",
    "a='qwe'\n",
    "for i in a:\n",
    "    m=ord(i)\n",
    "    if m>122 or m<65 or m>90 and m<97:\n",
    "        print(\"special character\")\n",
    "        break\n",
    "else:\n",
    "    print(\"no\")"
   ]
  },
  {
   "cell_type": "code",
   "execution_count": 4,
   "id": "7c6ad2a5",
   "metadata": {},
   "outputs": [
    {
     "name": "stdout",
     "output_type": "stream",
     "text": [
      "jfjf#\n",
      "[]\n",
      "not present\n"
     ]
    }
   ],
   "source": [
    "import re\n",
    "s=input()\n",
    "ans=re.compile('@#_()')\n",
    "\n",
    "print(ans.findall(s))\n",
    "if ans.search(s) == None:\n",
    "    print(\"not present\")\n",
    "else:\n",
    "    print(\"present\")"
   ]
  },
  {
   "cell_type": "code",
   "execution_count": null,
   "id": "acc5464e",
   "metadata": {},
   "outputs": [],
   "source": []
  }
 ],
 "metadata": {
  "kernelspec": {
   "display_name": "Python 3 (ipykernel)",
   "language": "python",
   "name": "python3"
  },
  "language_info": {
   "codemirror_mode": {
    "name": "ipython",
    "version": 3
   },
   "file_extension": ".py",
   "mimetype": "text/x-python",
   "name": "python",
   "nbconvert_exporter": "python",
   "pygments_lexer": "ipython3",
   "version": "3.11.1"
  }
 },
 "nbformat": 4,
 "nbformat_minor": 5
}
