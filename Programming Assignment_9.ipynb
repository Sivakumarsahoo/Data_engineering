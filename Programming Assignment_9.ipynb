{
 "cells": [
  {
   "cell_type": "markdown",
   "id": "67b2278d",
   "metadata": {},
   "source": [
    "Question 1. Write a Python program to check if the given number is a Disarium Number?\n"
   ]
  },
  {
   "cell_type": "code",
   "execution_count": 16,
   "id": "9f2ee593",
   "metadata": {},
   "outputs": [
    {
     "name": "stdout",
     "output_type": "stream",
     "text": [
      "yes\n"
     ]
    }
   ],
   "source": [
    "# solution:\n",
    "def solve(a):\n",
    "    if type(a)!=int:\n",
    "        print(\"not a integer\")\n",
    "    else:\n",
    "        b=str(a)\n",
    "        sum=0\n",
    "        for i in range(0,len(b)):\n",
    "            sum=sum+pow(int(b[i]),i+1)\n",
    "        return sum\n",
    "a=175\n",
    "c=solve(a)\n",
    "if c==a:\n",
    "    print('yes')\n",
    "else:\n",
    "    print(\"no\")\n"
   ]
  },
  {
   "cell_type": "markdown",
   "id": "1ce33f86",
   "metadata": {},
   "source": [
    "Question 2. Write a Python program to print all disarium numbers between 1 to 100?\n"
   ]
  },
  {
   "cell_type": "code",
   "execution_count": 17,
   "id": "cd2c0ef8",
   "metadata": {},
   "outputs": [
    {
     "name": "stdout",
     "output_type": "stream",
     "text": [
      "1\n",
      "2\n",
      "3\n",
      "4\n",
      "5\n",
      "6\n",
      "7\n",
      "8\n",
      "9\n",
      "89\n"
     ]
    }
   ],
   "source": [
    "# solution:\n",
    "for i in range(1,101):\n",
    "    d=solve(i)\n",
    "    if i==d:\n",
    "        print(i)\n",
    "    "
   ]
  },
  {
   "cell_type": "markdown",
   "id": "0c5c26d0",
   "metadata": {},
   "source": [
    "Question 3. Write a Python program to check if the given number is Happy Number?\n"
   ]
  },
  {
   "cell_type": "code",
   "execution_count": 21,
   "id": "1caae919",
   "metadata": {},
   "outputs": [
    {
     "name": "stdout",
     "output_type": "stream",
     "text": [
      "not\n"
     ]
    }
   ],
   "source": [
    "# solution:\n",
    "def solve1(a):\n",
    "    while a!=1 and a!=4:\n",
    "        sum=0\n",
    "        while a>0:\n",
    "            rem=a%10\n",
    "            sum+=pow(rem,2)\n",
    "            a=a//10\n",
    "        a=sum\n",
    "    return a\n",
    "\n",
    "d=solve1(39)\n",
    "if d==1:\n",
    "    print(\"happy number\")\n",
    "else:\n",
    "    print(\"not\")\n"
   ]
  },
  {
   "cell_type": "markdown",
   "id": "e74fa673",
   "metadata": {},
   "source": [
    "Question 4. Write a Python program to print all happy numbers between 1 and 100?\n"
   ]
  },
  {
   "cell_type": "code",
   "execution_count": 22,
   "id": "9e2cd7b5",
   "metadata": {},
   "outputs": [
    {
     "name": "stdout",
     "output_type": "stream",
     "text": [
      "1\n",
      "7\n",
      "10\n",
      "13\n",
      "19\n",
      "23\n",
      "28\n",
      "31\n",
      "32\n",
      "44\n",
      "49\n",
      "68\n",
      "70\n",
      "79\n",
      "82\n",
      "86\n",
      "91\n",
      "94\n",
      "97\n",
      "100\n"
     ]
    }
   ],
   "source": [
    "# solution:\n",
    "for i in  range(1,101):\n",
    "    d=solve1(i)\n",
    "    if d==1:\n",
    "        print(i)"
   ]
  },
  {
   "cell_type": "markdown",
   "id": "7bc1efb0",
   "metadata": {},
   "source": [
    "Question 5. Write a Python program to determine whether the given number is a Harshad Number?\n"
   ]
  },
  {
   "cell_type": "code",
   "execution_count": 25,
   "id": "9e625459",
   "metadata": {},
   "outputs": [
    {
     "name": "stdout",
     "output_type": "stream",
     "text": [
      "harshad number\n"
     ]
    }
   ],
   "source": [
    "# solution:\n",
    "def solve3(a):\n",
    "    b=a\n",
    "    sum=0\n",
    "    while(a>0):\n",
    "        rem=a%10\n",
    "        sum+=rem\n",
    "        a=a//10\n",
    "    return(b%sum)\n",
    "d=solve3(21)\n",
    "if d==0:\n",
    "    print(\"harshad number\")\n",
    "else:\n",
    "    print(\"not\")"
   ]
  },
  {
   "cell_type": "markdown",
   "id": "f3accd49",
   "metadata": {},
   "source": [
    "Question 6. Write a Python program to print all pronic numbers between 1 and 100?\n"
   ]
  },
  {
   "cell_type": "code",
   "execution_count": 29,
   "id": "845ee9b7",
   "metadata": {},
   "outputs": [
    {
     "name": "stdout",
     "output_type": "stream",
     "text": [
      "0\n",
      "2\n",
      "6\n",
      "12\n",
      "20\n",
      "30\n",
      "42\n",
      "56\n",
      "72\n",
      "90\n"
     ]
    }
   ],
   "source": [
    "# solution:\n",
    "mul=0\n",
    "a=0\n",
    "while(mul<100):\n",
    "    print(mul)\n",
    "    a=a+1\n",
    "    mul=a*(a+1)\n",
    " "
   ]
  }
 ],
 "metadata": {
  "kernelspec": {
   "display_name": "Python 3 (ipykernel)",
   "language": "python",
   "name": "python3"
  },
  "language_info": {
   "codemirror_mode": {
    "name": "ipython",
    "version": 3
   },
   "file_extension": ".py",
   "mimetype": "text/x-python",
   "name": "python",
   "nbconvert_exporter": "python",
   "pygments_lexer": "ipython3",
   "version": "3.11.1"
  }
 },
 "nbformat": 4,
 "nbformat_minor": 5
}
