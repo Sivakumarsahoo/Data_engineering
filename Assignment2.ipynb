{
 "cells": [
  {
   "cell_type": "markdown",
   "id": "940221e7",
   "metadata": {},
   "source": [
    "#                                                     Assignment2\n",
    "\n",
    "#                        above 25 question completed in assignment1"
   ]
  },
  {
   "cell_type": "code",
   "execution_count": null,
   "id": "877efb31",
   "metadata": {},
   "outputs": [],
   "source": []
  },
  {
   "cell_type": "markdown",
   "id": "d58f73e4",
   "metadata": {},
   "source": [
    "# Question 26. What is a string? How can we declare string in Python?"
   ]
  },
  {
   "cell_type": "code",
   "execution_count": null,
   "id": "9e216d49",
   "metadata": {},
   "outputs": [],
   "source": [
    "#solution:\n",
    "# string is an object which store sequence of characters or any text between single or double quotes\n",
    "\n",
    "# string in python are immutable\n",
    "\n",
    "# declaration:\n",
    "#     string1=\"\"    empty string\n",
    "#     string2=\"absnngd\""
   ]
  },
  {
   "cell_type": "markdown",
   "id": "efda8a23",
   "metadata": {},
   "source": [
    "# Question 27. How can we access the string using its index?"
   ]
  },
  {
   "cell_type": "code",
   "execution_count": 4,
   "id": "55ee0e20",
   "metadata": {},
   "outputs": [
    {
     "name": "stdout",
     "output_type": "stream",
     "text": [
      "s\n"
     ]
    }
   ],
   "source": [
    "# solution:\n",
    "#     we can acess the string using its index through square bracket like as we do in array\n",
    "# eg\n",
    "# string1=\"siva kumar sahoo\"\n",
    "# print(string1[11])"
   ]
  },
  {
   "cell_type": "markdown",
   "id": "f8317a2b",
   "metadata": {},
   "source": [
    "# Question 28. Write a code to get the desired output of the following\n",
    "\n",
    "# string = \"Big Data iNeuron\"\n",
    "# desired_output = \"iNeuron\""
   ]
  },
  {
   "cell_type": "code",
   "execution_count": 1,
   "id": "7f3877b1",
   "metadata": {},
   "outputs": [
    {
     "name": "stdout",
     "output_type": "stream",
     "text": [
      "iNeuron\n"
     ]
    }
   ],
   "source": [
    "string=\"Big Data iNeuron\"\n",
    "print(string[9:len(string)])"
   ]
  },
  {
   "cell_type": "markdown",
   "id": "e2d2276d",
   "metadata": {},
   "source": [
    "# Question 29. Write a code to get the desired output of the following\n",
    "\n",
    "# string = \"Big Data iNeuron\"\n",
    "# desired_output = \"norueNi\""
   ]
  },
  {
   "cell_type": "code",
   "execution_count": 3,
   "id": "7ff76dec",
   "metadata": {},
   "outputs": [
    {
     "name": "stdout",
     "output_type": "stream",
     "text": [
      "norueNi\n"
     ]
    }
   ],
   "source": [
    "string=\"Big Data iNeuron\"\n",
    "print(string[len(string)-1:8:-1])"
   ]
  },
  {
   "cell_type": "markdown",
   "id": "01faf90c",
   "metadata": {},
   "source": [
    "# Question 30. Resverse the string given in the above question."
   ]
  },
  {
   "cell_type": "code",
   "execution_count": 4,
   "id": "5714149e",
   "metadata": {},
   "outputs": [
    {
     "name": "stdout",
     "output_type": "stream",
     "text": [
      "norueNi ataD giB\n"
     ]
    }
   ],
   "source": [
    "string=\"Big Data iNeuron\"\n",
    "print(string[len(string)-1::-1])"
   ]
  },
  {
   "cell_type": "markdown",
   "id": "a4987050",
   "metadata": {},
   "source": [
    "# Question 31. How can you delete entire string at once?"
   ]
  },
  {
   "cell_type": "code",
   "execution_count": 7,
   "id": "45ad1b40",
   "metadata": {},
   "outputs": [],
   "source": [
    "# solution: using del command\n",
    "string1=\"hello\"\n",
    "del(string1)\n",
    "\n",
    "    "
   ]
  },
  {
   "cell_type": "markdown",
   "id": "428694e1",
   "metadata": {},
   "source": [
    "# Question 32. What is escape sequence?"
   ]
  },
  {
   "cell_type": "code",
   "execution_count": null,
   "id": "b0857a1b",
   "metadata": {},
   "outputs": [],
   "source": [
    "# solution:\n",
    "# escape sequence contain a backslash(\\) symbol followed by octal or hexadecimal number\n",
    "# eg: \\t for spaces, \\n for new line ,\\' for quote"
   ]
  },
  {
   "cell_type": "markdown",
   "id": "e14e9915",
   "metadata": {},
   "source": [
    "# Question 33. How can you print the below string?\n",
    "\n",
    "# 'iNeuron's Big Data Course'"
   ]
  },
  {
   "cell_type": "code",
   "execution_count": 6,
   "id": "82552014",
   "metadata": {},
   "outputs": [
    {
     "name": "stdout",
     "output_type": "stream",
     "text": [
      "'iNeuron's Big Data Course'\n"
     ]
    }
   ],
   "source": [
    "print(\"'iNeuron\\'s Big Data Course'\")"
   ]
  },
  {
   "cell_type": "markdown",
   "id": "e94e1572",
   "metadata": {},
   "source": [
    "# Question 34. What is a list in Python?"
   ]
  },
  {
   "cell_type": "code",
   "execution_count": null,
   "id": "c83bf5e9",
   "metadata": {},
   "outputs": [],
   "source": [
    "# solution:\n",
    "#     Python Lists are just like dynamically sized arrays\n",
    "#     The list is a sequence data type which is used to store the collection of data\n",
    "#     it is not homogenous like array in other languages\n",
    "#     lists are mutable\n",
    "#     A single list may contain DataTypes like Integers, Strings, as well as Objects"
   ]
  },
  {
   "cell_type": "markdown",
   "id": "8790964d",
   "metadata": {},
   "source": [
    "# Question 35. How can you create a list in Python?"
   ]
  },
  {
   "cell_type": "code",
   "execution_count": 11,
   "id": "ff1287a1",
   "metadata": {},
   "outputs": [
    {
     "name": "stdout",
     "output_type": "stream",
     "text": [
      "<class 'list'>\n"
     ]
    }
   ],
   "source": [
    "a1=[]\n",
    "print(type(a1))"
   ]
  },
  {
   "cell_type": "markdown",
   "id": "909e8beb",
   "metadata": {},
   "source": [
    "# Question 36. How can we access the elements in a list?"
   ]
  },
  {
   "cell_type": "code",
   "execution_count": 10,
   "id": "528c0e85",
   "metadata": {},
   "outputs": [
    {
     "name": "stdout",
     "output_type": "stream",
     "text": [
      "13\n"
     ]
    }
   ],
   "source": [
    "# solution:\n",
    "#     we can acess the element in a list through square bracket\n",
    "#     eg:\n",
    "a1=[23,45,98,13,17,39]\n",
    "print(a1[3])"
   ]
  },
  {
   "cell_type": "markdown",
   "id": "5c80f5ef",
   "metadata": {},
   "source": [
    "# Question 37. Write a code to access the word \"iNeuron\" from the given list.\n",
    "\n",
    "# lst = [1,2,3,\"Hi\",[45,54, \"iNeuron\"], \"Big Data\"]"
   ]
  },
  {
   "cell_type": "code",
   "execution_count": 7,
   "id": "b5ca483a",
   "metadata": {},
   "outputs": [
    {
     "name": "stdout",
     "output_type": "stream",
     "text": [
      "iNeuron\n"
     ]
    }
   ],
   "source": [
    "lst = [1,2,3,\"Hi\",[45,54, \"iNeuron\"], \"Big Data\"]\n",
    "print(lst[4][2])"
   ]
  },
  {
   "cell_type": "markdown",
   "id": "5b774c34",
   "metadata": {},
   "source": [
    "# Question 38. Take a list as an input from the user and find the length of the list."
   ]
  },
  {
   "cell_type": "code",
   "execution_count": 2,
   "id": "feab4134",
   "metadata": {},
   "outputs": [
    {
     "name": "stdout",
     "output_type": "stream",
     "text": [
      "enter values 91\n",
      "enter values 92\n",
      "enter values 97\n",
      "enter values 98\n",
      "enter values 99\n",
      "5\n"
     ]
    }
   ],
   "source": [
    "list1=[]\n",
    "for i in range(5):\n",
    "    list1.append(int(input(\"enter values \")))\n",
    "print(len(list1))"
   ]
  },
  {
   "cell_type": "markdown",
   "id": "fd118abe",
   "metadata": {},
   "source": [
    "# Question 39. Add the word \"Big\" in the 3rd index of the given list.\n",
    "\n",
    "# lst = [\"Welcome\", \"to\", \"Data\", \"course\"]"
   ]
  },
  {
   "cell_type": "code",
   "execution_count": 6,
   "id": "eba0df6f",
   "metadata": {},
   "outputs": [
    {
     "name": "stdout",
     "output_type": "stream",
     "text": [
      "['ss', 'Welcome', 'to', 'Data', 'course']\n"
     ]
    }
   ],
   "source": [
    "# solution:\n",
    "list1 = [\"Welcome\", \"to\", \"Data\", \"course\"]\n",
    "list1.insert(0,\"ss\")\n",
    "print(list1)"
   ]
  },
  {
   "cell_type": "markdown",
   "id": "da770718",
   "metadata": {},
   "source": [
    "# Question 40. What is a tuple? How is it different from list?"
   ]
  },
  {
   "cell_type": "code",
   "execution_count": null,
   "id": "4cea7236",
   "metadata": {},
   "outputs": [],
   "source": [
    "# solution:\n",
    "    # tuple is a collection of object seperated by comma\n",
    "# it is smiliar to list in python\n",
    "# through indexing we can acess data from tuples\n",
    "# but tuple is immutable (list is mutable) after creating tuple we can't change"
   ]
  },
  {
   "cell_type": "markdown",
   "id": "58a62158",
   "metadata": {},
   "source": [
    "# Question 41. How can you create a tuple in Python?"
   ]
  },
  {
   "cell_type": "code",
   "execution_count": 48,
   "id": "596f3fd8",
   "metadata": {},
   "outputs": [
    {
     "name": "stdout",
     "output_type": "stream",
     "text": [
      "<class 'tuple'>\n",
      "<class 'tuple'>\n"
     ]
    }
   ],
   "source": [
    "# solution:\n",
    "#     using bracket() we can create tuple\n",
    "tuple1=()\n",
    "print(type(tuple1))\n",
    "tuple2=(1,2,3,4)\n",
    "print(type(tuple2))"
   ]
  },
  {
   "cell_type": "markdown",
   "id": "56be2b2d",
   "metadata": {},
   "source": [
    "# Question 42. Create a tuple and try to add your name in the tuple. Are you able to do it? Support your answer with reason."
   ]
  },
  {
   "cell_type": "code",
   "execution_count": 41,
   "id": "3b79b0c7",
   "metadata": {},
   "outputs": [],
   "source": [
    "# Solution: NO\n",
    "#     we can't add or insert element in tuple because it is immutable\n"
   ]
  },
  {
   "cell_type": "markdown",
   "id": "e684cdef",
   "metadata": {},
   "source": [
    "# Question 43. Can two tuple be appended. If yes, write a code for it. If not, why?"
   ]
  },
  {
   "cell_type": "code",
   "execution_count": 50,
   "id": "c70d9f87",
   "metadata": {},
   "outputs": [
    {
     "name": "stdout",
     "output_type": "stream",
     "text": [
      "(1, 2, 3, 4, 5, 6)\n"
     ]
    }
   ],
   "source": [
    "# solution:\n",
    "#     yes two tuple can concatenate\n",
    "a=(1,2,3)\n",
    "b=(4,5,6)\n",
    "print(a+b)"
   ]
  },
  {
   "cell_type": "markdown",
   "id": "8fde7a64",
   "metadata": {},
   "source": [
    "# Question 44. Take a tuple as an input and print the count of elements in it."
   ]
  },
  {
   "cell_type": "code",
   "execution_count": 51,
   "id": "0769ef41",
   "metadata": {},
   "outputs": [
    {
     "name": "stdout",
     "output_type": "stream",
     "text": [
      "enter values91\n",
      "enter values95\n",
      "enter values96\n",
      "enter values97\n",
      "enter values98\n",
      "enter values99\n",
      "(91, 95, 96, 97, 98, 99)\n"
     ]
    }
   ],
   "source": [
    "list1=[]\n",
    "for i in range(6):\n",
    "    list1.append(int(input(\"enter values\")))\n",
    "print(tuple(list1))"
   ]
  },
  {
   "cell_type": "markdown",
   "id": "927cdb02",
   "metadata": {},
   "source": [
    "# Question 45. What are sets in Python?"
   ]
  },
  {
   "cell_type": "code",
   "execution_count": null,
   "id": "e4ea9a55",
   "metadata": {},
   "outputs": [],
   "source": [
    "# solution:\n",
    "#     set is an unordered collection of data type that is iterable,mutable and has unique element"
   ]
  },
  {
   "cell_type": "markdown",
   "id": "b5a3d1b5",
   "metadata": {},
   "source": [
    "# Question 46. How can you create a set?"
   ]
  },
  {
   "cell_type": "code",
   "execution_count": 54,
   "id": "a85d3d6d",
   "metadata": {},
   "outputs": [
    {
     "name": "stdout",
     "output_type": "stream",
     "text": [
      "<class 'set'>\n",
      "<class 'set'>\n"
     ]
    }
   ],
   "source": [
    "# solution:\n",
    "#     method1\n",
    "set1=set()\n",
    "print(type(set1))\n",
    "#     method2\n",
    "set2={1,2}\n",
    "print(type(set2))"
   ]
  },
  {
   "cell_type": "markdown",
   "id": "e0abed2f",
   "metadata": {},
   "source": [
    "# Question 47. Create a set and add \"iNeuron\" in your set."
   ]
  },
  {
   "cell_type": "code",
   "execution_count": 59,
   "id": "bf89d612",
   "metadata": {},
   "outputs": [
    {
     "name": "stdout",
     "output_type": "stream",
     "text": [
      "{'iNeuron'}\n"
     ]
    }
   ],
   "source": [
    "# solution:\n",
    "set1=set()\n",
    "set1.add('iNeuron')\n",
    "print(set1)"
   ]
  },
  {
   "cell_type": "markdown",
   "id": "261d7ed3",
   "metadata": {},
   "source": [
    "# Question 48. Try to add multiple values using add() function."
   ]
  },
  {
   "cell_type": "code",
   "execution_count": 60,
   "id": "ccac540c",
   "metadata": {},
   "outputs": [
    {
     "name": "stdout",
     "output_type": "stream",
     "text": [
      "enter values fhnldf\n",
      "enter values dmsnk\n",
      "enter values dbjs\n",
      "enter values cgskn'\n",
      "enter values cfsjn\n",
      "{'cfsjn', 'dbjs', \"cgskn'\", 'fhnldf', 'dmsnk'}\n"
     ]
    }
   ],
   "source": [
    "set1=set()\n",
    "for i in range(5):\n",
    "    set1.add(input(\"enter values \"))\n",
    "print(set1)"
   ]
  },
  {
   "cell_type": "markdown",
   "id": "65371ea4",
   "metadata": {},
   "source": [
    "# Question 49. How is update() different from add()?"
   ]
  },
  {
   "cell_type": "code",
   "execution_count": 67,
   "id": "c5b520f5",
   "metadata": {},
   "outputs": [
    {
     "name": "stdout",
     "output_type": "stream",
     "text": [
      "{1, 2, 3, 51, 7, 45}\n",
      "{64, 1, 2, 3, 7, 12, 87, 45, 51}\n"
     ]
    }
   ],
   "source": [
    "# solution:\n",
    "#     add element is used to add single element in set\n",
    "#     update element is used to add multiple element in set\n",
    "set1={1,2,3,45,7}\n",
    "set1.add(51)\n",
    "print(set1)\n",
    "set1.update([12,87,64])\n",
    "print(set1)"
   ]
  },
  {
   "cell_type": "markdown",
   "id": "679244f4",
   "metadata": {},
   "source": [
    "# Question 50. What is clear() in sets?"
   ]
  },
  {
   "cell_type": "code",
   "execution_count": 62,
   "id": "41497d09",
   "metadata": {},
   "outputs": [
    {
     "name": "stdout",
     "output_type": "stream",
     "text": [
      "{1, 2, 3, 4, 5, 7, 9}\n",
      "set()\n"
     ]
    }
   ],
   "source": [
    "# solution:\n",
    "#     clear() is uesd to remove all element in set\n",
    "    \n",
    "set1={1,2,3,9,4,5,7}\n",
    "print(set1)\n",
    "set1.clear()\n",
    "print(set1)"
   ]
  },
  {
   "cell_type": "markdown",
   "id": "323f6983",
   "metadata": {},
   "source": [
    "# Question 51. What is frozen set?"
   ]
  },
  {
   "cell_type": "code",
   "execution_count": null,
   "id": "3cd82309",
   "metadata": {},
   "outputs": [],
   "source": [
    "# solution:\n",
    "#     frozen sets is unordered collection of data types\n",
    "#     frozen sets are immutable"
   ]
  },
  {
   "cell_type": "markdown",
   "id": "683d54c5",
   "metadata": {},
   "source": [
    "# Question 52. How is frozen set different from set?"
   ]
  },
  {
   "cell_type": "code",
   "execution_count": null,
   "id": "d24eb779",
   "metadata": {},
   "outputs": [],
   "source": [
    "# solution:\n",
    "# set is mutable\n",
    "# frozen set is immutable"
   ]
  },
  {
   "cell_type": "markdown",
   "id": "7bbbfd13",
   "metadata": {},
   "source": [
    "# Question 53. What is union() in sets? Explain via code."
   ]
  },
  {
   "cell_type": "code",
   "execution_count": 69,
   "id": "da021d30",
   "metadata": {},
   "outputs": [
    {
     "name": "stdout",
     "output_type": "stream",
     "text": [
      "{1, 2, 3, 4, 5}\n"
     ]
    }
   ],
   "source": [
    "# solution:\n",
    "#     comine two set \n",
    "# symbol(|)\n",
    "set1={1,2,3}\n",
    "set2={2,3,4,5}\n",
    "print(set1|set2)\n"
   ]
  },
  {
   "cell_type": "markdown",
   "id": "77cdf233",
   "metadata": {},
   "source": [
    "# Question 54. What is intersection() in sets? Explain via code."
   ]
  },
  {
   "cell_type": "code",
   "execution_count": 71,
   "id": "4ffe6868",
   "metadata": {},
   "outputs": [
    {
     "name": "stdout",
     "output_type": "stream",
     "text": [
      "{2, 3}\n"
     ]
    }
   ],
   "source": [
    "# solution:\n",
    "#     join common elements in both set\n",
    "#     symbol(&)\n",
    "set1={1,2,3}\n",
    "set2={2,3,4,5}\n",
    "print(set1&set2)"
   ]
  },
  {
   "cell_type": "markdown",
   "id": "21e7b23f",
   "metadata": {},
   "source": [
    "# Question 55. What is dictionary in Python?"
   ]
  },
  {
   "cell_type": "code",
   "execution_count": null,
   "id": "e43e578b",
   "metadata": {},
   "outputs": [],
   "source": [
    "# solution:\n",
    "#     dictionary is a collection of key value pairs\n",
    "#     key part should be either int or string\n",
    "#     value can be any data type\n",
    "#     it is mutable"
   ]
  },
  {
   "cell_type": "markdown",
   "id": "01cdfe0b",
   "metadata": {},
   "source": [
    "# Question 56. How is dictionary different from all other data structures."
   ]
  },
  {
   "cell_type": "code",
   "execution_count": null,
   "id": "ac09ebd3",
   "metadata": {},
   "outputs": [],
   "source": [
    "# solution:\n",
    "#     in other data structure single value represent an element, here in dictionary key-value combine represent a single element"
   ]
  },
  {
   "cell_type": "markdown",
   "id": "f260220e",
   "metadata": {},
   "source": [
    "# Question 57. How can we delare a dictionary in Python?"
   ]
  },
  {
   "cell_type": "code",
   "execution_count": 74,
   "id": "1377cf6f",
   "metadata": {},
   "outputs": [],
   "source": [
    "dict1={}\n",
    "dict2={\"apple\":\"red\"}"
   ]
  },
  {
   "cell_type": "markdown",
   "id": "e250e21a",
   "metadata": {},
   "source": [
    "# Question 58. What will the output of the following?\n",
    "\n",
    "# var = {}\n",
    "# print(type(var))"
   ]
  },
  {
   "cell_type": "code",
   "execution_count": null,
   "id": "e271d4e8",
   "metadata": {},
   "outputs": [],
   "source": [
    "# solution:\n",
    "#     dictionary"
   ]
  },
  {
   "cell_type": "markdown",
   "id": "9fa81401",
   "metadata": {},
   "source": [
    "# Question 59. How can we add an element in a dictionary?"
   ]
  },
  {
   "cell_type": "code",
   "execution_count": 83,
   "id": "1b45a992",
   "metadata": {},
   "outputs": [
    {
     "name": "stdout",
     "output_type": "stream",
     "text": [
      "{'one': 1}\n",
      "{'one': 1, 'two': 2}\n",
      "{'one': 1, 'two': 2, 'three': 3}\n"
     ]
    }
   ],
   "source": [
    "dict1={}\n",
    "dict1[\"one\"]=1\n",
    "print(dict1)\n",
    "dict1.update({\"two\":2})\n",
    "print(dict1)\n",
    "dict1.__setitem__(\"three\",3)\n",
    "print(dict1)"
   ]
  },
  {
   "cell_type": "markdown",
   "id": "7e1ce187",
   "metadata": {},
   "source": [
    "# Question 60. Create a dictionary and access all the values in that dictionary."
   ]
  },
  {
   "cell_type": "code",
   "execution_count": 84,
   "id": "e37b7b1b",
   "metadata": {},
   "outputs": [
    {
     "name": "stdout",
     "output_type": "stream",
     "text": [
      "one 1\n",
      "two 2\n",
      "three 3\n",
      "four 4\n",
      "five 5\n"
     ]
    }
   ],
   "source": [
    "# solution:\n",
    "dict3={\"one\":1,\"two\":2,\"three\":3,\"four\":4,\"five\":5}\n",
    "for key,value in dict3.items():\n",
    "    print(key, value)\n",
    "    \n"
   ]
  },
  {
   "cell_type": "markdown",
   "id": "5373797b",
   "metadata": {},
   "source": [
    "# Question 61. Create a nested dictionary and access all the element in the inner dictionary."
   ]
  },
  {
   "cell_type": "code",
   "execution_count": 85,
   "id": "07b179ef",
   "metadata": {},
   "outputs": [
    {
     "name": "stdout",
     "output_type": "stream",
     "text": [
      "1\n",
      "Name John\n",
      "Age 27\n",
      "Sex Male\n",
      "2\n",
      "Name Marie\n",
      "Age 22\n",
      "Sex Female\n"
     ]
    }
   ],
   "source": [
    "# solution:\n",
    "people = {1: {'Name': 'John', 'Age': '27', 'Sex': 'Male'},\n",
    "          2: {'Name': 'Marie', 'Age': '22', 'Sex': 'Female'}}\n",
    "for key,value in people.items():\n",
    "    print(key)\n",
    "    for ikey,ivalue in value.items():\n",
    "        print(ikey,ivalue)\n"
   ]
  },
  {
   "cell_type": "markdown",
   "id": "a322cb2c",
   "metadata": {},
   "source": [
    "# Question 62. What is the use of get() function?"
   ]
  },
  {
   "cell_type": "code",
   "execution_count": 86,
   "id": "7d324d3d",
   "metadata": {},
   "outputs": [
    {
     "data": {
      "text/plain": [
       "1"
      ]
     },
     "execution_count": 86,
     "metadata": {},
     "output_type": "execute_result"
    }
   ],
   "source": [
    "# solution:\n",
    "# get the value\n",
    "dict3={\"one\":1,\"two\":2,\"three\":3,\"four\":4,\"five\":5}\n",
    "dict3.get(\"one\")"
   ]
  },
  {
   "cell_type": "markdown",
   "id": "d25a7b49",
   "metadata": {},
   "source": [
    "# Question 63. What is the use of items() function?"
   ]
  },
  {
   "cell_type": "code",
   "execution_count": 88,
   "id": "48923b3f",
   "metadata": {},
   "outputs": [
    {
     "name": "stdout",
     "output_type": "stream",
     "text": [
      "one 1\n",
      "two 2\n",
      "three 3\n",
      "four 4\n",
      "five 5\n"
     ]
    }
   ],
   "source": [
    "# solution:\n",
    "# item() is used to return the list with key and value\n",
    "for k,v in dict3.items():\n",
    "    print(k,v)"
   ]
  },
  {
   "cell_type": "markdown",
   "id": "26994fdd",
   "metadata": {},
   "source": [
    "# Question 64. What is the use of pop() function?"
   ]
  },
  {
   "cell_type": "code",
   "execution_count": 92,
   "id": "78ee8b6e",
   "metadata": {},
   "outputs": [
    {
     "name": "stdout",
     "output_type": "stream",
     "text": [
      "{'one': 1, 'two': 2, 'three': 3, 'four': 4}\n"
     ]
    }
   ],
   "source": [
    "# solution:\n",
    "#     remove element\n",
    "dict3.pop(\"five\")\n",
    "print(dict3)"
   ]
  },
  {
   "cell_type": "markdown",
   "id": "b52f5d8b",
   "metadata": {},
   "source": [
    "# Question 65. What is the use of popitem() function?"
   ]
  },
  {
   "cell_type": "code",
   "execution_count": 95,
   "id": "6db8bd4c",
   "metadata": {},
   "outputs": [
    {
     "name": "stdout",
     "output_type": "stream",
     "text": [
      "{'one': 1, 'two': 2, 'three': 3, 'four': 4}\n",
      "{'one': 1, 'two': 2, 'three': 3}\n"
     ]
    }
   ],
   "source": [
    "# solution:\n",
    "#     remove last element\n",
    "print(dict3)\n",
    "dict3.popitem()\n",
    "print(dict3)"
   ]
  },
  {
   "cell_type": "markdown",
   "id": "c857b351",
   "metadata": {},
   "source": [
    "# Question 66. What is the use of keys() function?"
   ]
  },
  {
   "cell_type": "code",
   "execution_count": 96,
   "id": "3c9b41ad",
   "metadata": {},
   "outputs": [
    {
     "name": "stdout",
     "output_type": "stream",
     "text": [
      "dict_keys(['one', 'two', 'three'])\n"
     ]
    }
   ],
   "source": [
    "# solution:\n",
    "# print all keys\n",
    "print(dict3.keys())"
   ]
  },
  {
   "cell_type": "markdown",
   "id": "1f7797b6",
   "metadata": {},
   "source": [
    "# Question 67. What is the use of values() function?"
   ]
  },
  {
   "cell_type": "code",
   "execution_count": 97,
   "id": "424a68da",
   "metadata": {},
   "outputs": [
    {
     "name": "stdout",
     "output_type": "stream",
     "text": [
      "dict_values([1, 2, 3])\n"
     ]
    }
   ],
   "source": [
    "# solution:\n",
    "# print all value\n",
    "print(dict3.values())"
   ]
  },
  {
   "cell_type": "markdown",
   "id": "a8667a2a",
   "metadata": {},
   "source": [
    "# Question 68. What are loops in Python?"
   ]
  },
  {
   "cell_type": "code",
   "execution_count": null,
   "id": "eba5afb6",
   "metadata": {},
   "outputs": [],
   "source": [
    "# solution:\n",
    "#     loop is a block of instruction that is continually repeated until a cretain condition is reaced"
   ]
  },
  {
   "cell_type": "markdown",
   "id": "75edc13c",
   "metadata": {},
   "source": [
    "# Question 69. How many type of loop are there in Python?"
   ]
  },
  {
   "cell_type": "code",
   "execution_count": null,
   "id": "a2264237",
   "metadata": {},
   "outputs": [],
   "source": [
    "# solution:\n",
    "#     for loop\n",
    "#     while loop\n",
    "#     do-while loop"
   ]
  },
  {
   "cell_type": "markdown",
   "id": "99072f43",
   "metadata": {},
   "source": [
    "# Question 70. What is the difference between for and while loops?"
   ]
  },
  {
   "cell_type": "code",
   "execution_count": null,
   "id": "b23aa146",
   "metadata": {},
   "outputs": [],
   "source": [
    "# solution:\n",
    "#     for loop=> when number of iteration is known\n",
    "#     while loop=>when number of iteration is not known"
   ]
  },
  {
   "cell_type": "markdown",
   "id": "cad69bc4",
   "metadata": {},
   "source": [
    "# Question 71. What is the use of continue statement?"
   ]
  },
  {
   "cell_type": "code",
   "execution_count": null,
   "id": "fcdbae4e",
   "metadata": {},
   "outputs": [],
   "source": [
    "# solution:\n",
    "#     to skip a sequence of loop when certain condition meet"
   ]
  },
  {
   "cell_type": "markdown",
   "id": "d967d814",
   "metadata": {},
   "source": [
    "# Question 72. What is the use of break statement?"
   ]
  },
  {
   "cell_type": "code",
   "execution_count": null,
   "id": "d98f842c",
   "metadata": {},
   "outputs": [],
   "source": [
    "# solution:\n",
    "#     to end the loop when certain condition meet"
   ]
  },
  {
   "cell_type": "markdown",
   "id": "7c541cac",
   "metadata": {},
   "source": [
    "# Question 73. What is the use of pass statement?"
   ]
  },
  {
   "cell_type": "code",
   "execution_count": null,
   "id": "2b30c83c",
   "metadata": {},
   "outputs": [],
   "source": [
    "solution:\n",
    "    when pass statement executed nothing happens but you avoid getting an error when empty code is not allowed"
   ]
  },
  {
   "cell_type": "markdown",
   "id": "8104e7b2",
   "metadata": {},
   "source": [
    "# Question 74. What is the use of range() function?"
   ]
  },
  {
   "cell_type": "code",
   "execution_count": null,
   "id": "80f739bf",
   "metadata": {},
   "outputs": [],
   "source": [
    "# solution:\n",
    "#     return a sequence of number in a given range\n",
    "# range(start,stop,step)"
   ]
  },
  {
   "cell_type": "markdown",
   "id": "d7916bbd",
   "metadata": {},
   "source": [
    "# Question 75. How can you loop over a dictionary?"
   ]
  },
  {
   "cell_type": "code",
   "execution_count": 98,
   "id": "03cc3d18",
   "metadata": {},
   "outputs": [
    {
     "name": "stdout",
     "output_type": "stream",
     "text": [
      "one 1\n",
      "two 2\n",
      "three 3\n"
     ]
    }
   ],
   "source": [
    "for k,v in dict3.items():\n",
    "    print(k,v)"
   ]
  },
  {
   "cell_type": "markdown",
   "id": "51f0d8d4",
   "metadata": {},
   "source": [
    "# Question 76. Write a Python program to find the factorial of a given number."
   ]
  },
  {
   "cell_type": "code",
   "execution_count": 3,
   "id": "1b63f612",
   "metadata": {},
   "outputs": [
    {
     "name": "stdout",
     "output_type": "stream",
     "text": [
      "120\n"
     ]
    }
   ],
   "source": [
    "num=5\n",
    "ans=1\n",
    "for value in range(1,num+1):\n",
    "    ans*=value\n",
    "print(ans)"
   ]
  },
  {
   "cell_type": "markdown",
   "id": "32915fdb",
   "metadata": {},
   "source": [
    "# Question 77. Write a Python program to calculate the simple interest. Formula to calculate simple interest is SI = (PRT)/100"
   ]
  },
  {
   "cell_type": "code",
   "execution_count": 4,
   "id": "675d1f01",
   "metadata": {},
   "outputs": [
    {
     "name": "stdout",
     "output_type": "stream",
     "text": [
      "1200.0\n"
     ]
    }
   ],
   "source": [
    "principal=10000\n",
    "rate=3\n",
    "time=4\n",
    "simple_interest=(principal*rate*time)/100\n",
    "print(simple_interest)"
   ]
  },
  {
   "cell_type": "markdown",
   "id": "45ab8169",
   "metadata": {},
   "source": [
    "# Question 78. Write a Python program to calculate the compound interest. Formula of compound interest is A = P(1+ R/100)^t."
   ]
  },
  {
   "cell_type": "code",
   "execution_count": 6,
   "id": "1fba288d",
   "metadata": {},
   "outputs": [
    {
     "name": "stdout",
     "output_type": "stream",
     "text": [
      "11255.0881\n"
     ]
    }
   ],
   "source": [
    "principal=10000\n",
    "rate=3\n",
    "time=4\n",
    "compound_interest=principal*(1+rate/100)**time\n",
    "print(compound_interest)"
   ]
  },
  {
   "cell_type": "markdown",
   "id": "c0368752",
   "metadata": {},
   "source": [
    "# Question 79. Write a Python program to check if a number is prime or not."
   ]
  },
  {
   "cell_type": "code",
   "execution_count": 9,
   "id": "6eafd96a",
   "metadata": {},
   "outputs": [
    {
     "name": "stdout",
     "output_type": "stream",
     "text": [
      "not a prime \n"
     ]
    }
   ],
   "source": [
    "num=12\n",
    "value=2\n",
    "while(value<num):\n",
    "    if(num%value==0):\n",
    "        print(\"not a prime \")\n",
    "        break\n",
    "    value+=1\n",
    "else:\n",
    "    print(\"prime\")"
   ]
  },
  {
   "cell_type": "markdown",
   "id": "505fa02a",
   "metadata": {},
   "source": [
    "# Question 80. Write a Python program to check Armstrong Number."
   ]
  },
  {
   "cell_type": "code",
   "execution_count": 16,
   "id": "fb08a316",
   "metadata": {},
   "outputs": [
    {
     "name": "stdout",
     "output_type": "stream",
     "text": [
      "not a armstrong numbers\n"
     ]
    }
   ],
   "source": [
    "num=187\n",
    "ans=num\n",
    "ans2=0\n",
    "while(num>0):\n",
    "    ans2+=(num%10)**3\n",
    "    num=num//10\n",
    "if(ans==ans2):\n",
    "    print(\"armstrong numbers\")\n",
    "else:\n",
    "    print(\"not a armstrong numbers\")"
   ]
  },
  {
   "cell_type": "markdown",
   "id": "3e259710",
   "metadata": {},
   "source": [
    "# Question 81. Write a Python program to find the n-th Fibonacci Number."
   ]
  },
  {
   "cell_type": "code",
   "execution_count": 22,
   "id": "468c1e8f",
   "metadata": {},
   "outputs": [
    {
     "name": "stdout",
     "output_type": "stream",
     "text": [
      "enter number 5\n",
      "3\n"
     ]
    }
   ],
   "source": [
    "def fib(n):\n",
    "    first=0\n",
    "    second=1\n",
    "    if(n==1):\n",
    "        return first\n",
    "    while(n>2):\n",
    "        ans=first+second\n",
    "        first=second\n",
    "        second=ans\n",
    "        n=n-1\n",
    "    return second\n",
    "\n",
    "\n",
    "n=int(input(\"enter number \"))\n",
    "print(fib(n))"
   ]
  },
  {
   "cell_type": "markdown",
   "id": "925d9b92",
   "metadata": {},
   "source": [
    "# Question 82. Write a Python program to interchange the first and last element in a list."
   ]
  },
  {
   "cell_type": "code",
   "execution_count": 26,
   "id": "dd0e6b0b",
   "metadata": {},
   "outputs": [
    {
     "name": "stdout",
     "output_type": "stream",
     "text": [
      "[4, 7, 9, 5, 1, 6, 3, 2]\n"
     ]
    }
   ],
   "source": [
    "list1=[2,7,9,5,1,6,3,4]\n",
    "temp=list1[0]\n",
    "list1[0]=list1[len(list1)-1]\n",
    "list1[len(list1)-1]=temp\n",
    "print(list1)"
   ]
  },
  {
   "cell_type": "markdown",
   "id": "0bb50c4f",
   "metadata": {},
   "source": [
    "# Question 83. Write a Python program to swap two elements in a list."
   ]
  },
  {
   "cell_type": "code",
   "execution_count": 27,
   "id": "5dd3176a",
   "metadata": {},
   "outputs": [
    {
     "name": "stdout",
     "output_type": "stream",
     "text": [
      "enter value  3\n",
      "enter value  6\n",
      "[4, 2, 7, 5, 6, 1, 9]\n"
     ]
    }
   ],
   "source": [
    "list1=[4,2,7,9,6,1,5]\n",
    "index1=int(input(\"enter value  \"))\n",
    "index2=int(input(\"enter value  \"))\n",
    "temp=list1[index1]\n",
    "list1[index1]=list1[index2]\n",
    "list1[index2]=temp\n",
    "print(list1)"
   ]
  },
  {
   "cell_type": "markdown",
   "id": "bf06f0e0",
   "metadata": {},
   "source": [
    "# Question 84. Write a Python program to find N largest element from a list."
   ]
  },
  {
   "cell_type": "code",
   "execution_count": 25,
   "id": "c3dec9d1",
   "metadata": {},
   "outputs": [
    {
     "name": "stdout",
     "output_type": "stream",
     "text": [
      "enter your number 3\n",
      "[1, 2, 3]\n"
     ]
    }
   ],
   "source": [
    "n=int(input(\"enter your number \"))\n",
    "list1=[2,7,9,5,1,6,3,4]\n",
    "list1.sort()\n",
    "print(list1[:n])"
   ]
  },
  {
   "cell_type": "markdown",
   "id": "35d29321",
   "metadata": {},
   "source": [
    "# Question 85. Write a Python program to find cumulative sum of a list."
   ]
  },
  {
   "cell_type": "code",
   "execution_count": 23,
   "id": "93ef8a32",
   "metadata": {},
   "outputs": [
    {
     "name": "stdout",
     "output_type": "stream",
     "text": [
      "55\n"
     ]
    }
   ],
   "source": [
    "list1=[1,2,3,4,5,6,7,8,9,10]\n",
    "print(sum(list1))"
   ]
  },
  {
   "cell_type": "markdown",
   "id": "f204e785",
   "metadata": {},
   "source": [
    "# Question 86. Write a Python program to check if a string is palindrome or not."
   ]
  },
  {
   "cell_type": "code",
   "execution_count": 33,
   "id": "1b343b96",
   "metadata": {},
   "outputs": [
    {
     "name": "stdout",
     "output_type": "stream",
     "text": [
      "not a palindrome\n"
     ]
    }
   ],
   "source": [
    "str1=\"mada\"\n",
    "str2=str1[len(str1)-1::-1]\n",
    "if(str1==str2):\n",
    "    print(\"palindrome\")\n",
    "else:\n",
    "    print(\"not a palindrome\")"
   ]
  },
  {
   "cell_type": "markdown",
   "id": "f9a6367a",
   "metadata": {},
   "source": [
    "# Question 87. Write a Python program to remove i'th element from a string."
   ]
  },
  {
   "cell_type": "code",
   "execution_count": 35,
   "id": "2ebc4e08",
   "metadata": {},
   "outputs": [
    {
     "name": "stdout",
     "output_type": "stream",
     "text": [
      "enter index 2\n",
      "maam\n"
     ]
    }
   ],
   "source": [
    "str1=\"madam\"\n",
    "index=int(input(\"enter index \"))\n",
    "str1=str1[:index]+str1[index+1:]\n",
    "print(str1)"
   ]
  },
  {
   "cell_type": "markdown",
   "id": "dcd6b508",
   "metadata": {},
   "source": [
    "# Question 88. Write a Python program to check if a substring is present in a given string."
   ]
  },
  {
   "cell_type": "code",
   "execution_count": 39,
   "id": "6166ffd3",
   "metadata": {},
   "outputs": [
    {
     "name": "stdout",
     "output_type": "stream",
     "text": [
      "True\n"
     ]
    }
   ],
   "source": [
    "str1=\"ndi\"\n",
    "str2=\"india\"\n",
    "print(str1 in str2)"
   ]
  },
  {
   "cell_type": "markdown",
   "id": "6abd37ad",
   "metadata": {},
   "source": [
    "# Question 89. Write a Python program to find words which are greater than given length k."
   ]
  },
  {
   "cell_type": "code",
   "execution_count": 2,
   "id": "609929f1",
   "metadata": {},
   "outputs": [
    {
     "name": "stdout",
     "output_type": "stream",
     "text": [
      "hello\n",
      "fine\n"
     ]
    }
   ],
   "source": [
    "str=\"hello how are you i am fine\"\n",
    "k=3\n",
    "a=str.split(\" \")\n",
    "for value in a:\n",
    "    if len(value)>k:\n",
    "        print(value)\n",
    "    "
   ]
  },
  {
   "cell_type": "markdown",
   "id": "f2435263",
   "metadata": {},
   "source": [
    "# Question 90. Write a Python program to extract unquire dictionary values."
   ]
  },
  {
   "cell_type": "code",
   "execution_count": 106,
   "id": "5e9108b9",
   "metadata": {},
   "outputs": [
    {
     "name": "stdout",
     "output_type": "stream",
     "text": [
      "{1, 2, 5, 6, 7, 8, 10, 11, 12}\n"
     ]
    }
   ],
   "source": [
    "# solution:\n",
    "dict1 = {'gfg' : [5, 6, 7, 8],\n",
    "            'is' : [10, 11, 7, 5],\n",
    "            'best' : [6, 12, 10, 8],\n",
    "            'for' : [1, 2, 5]}\n",
    "x=list(dict1.values())\n",
    "y=[]\n",
    "for i in x:\n",
    "    y.extend(i)\n",
    "z=set(y)\n",
    "print(z)\n"
   ]
  },
  {
   "cell_type": "markdown",
   "id": "97a4a7de",
   "metadata": {},
   "source": [
    "# Question 91. Write a Python program to merge two dictionary."
   ]
  },
  {
   "cell_type": "code",
   "execution_count": 112,
   "id": "70bfc49a",
   "metadata": {},
   "outputs": [
    {
     "name": "stdout",
     "output_type": "stream",
     "text": [
      "{'one': 1, 'two': 2, 'three': 3}\n",
      "{'one': 1, 'two': 2, 'three': 3}\n"
     ]
    }
   ],
   "source": [
    "# solution:\n",
    "dict1 = {'one': 1, 'two': 2}\n",
    "dict2 = {'two': 2, 'three': 3}\n",
    "# 1\n",
    "for k,v in dict2.items():\n",
    "    dict1.update({k:v})\n",
    "print(dict1)\n",
    "#2\n",
    "dict3 = {'one': 1, 'two': 2}\n",
    "dict4 = {'two': 2, 'three': 3}\n",
    "print(dict3|dict4)"
   ]
  },
  {
   "cell_type": "markdown",
   "id": "57b26e3f",
   "metadata": {},
   "source": [
    "# Question 92. Write a Python program to convert a list of tuples into dictionary.\n",
    "\n",
    "# Input : [('Sachin', 10), ('MSD', 7), ('Kohli', 18), ('Rohit', 45)]\n",
    "\n",
    "# Output : {'Sachin': 10, 'MSD': 7, 'Kohli': 18, 'Rohit': 45}"
   ]
  },
  {
   "cell_type": "code",
   "execution_count": 58,
   "id": "04ccf921",
   "metadata": {},
   "outputs": [
    {
     "name": "stdout",
     "output_type": "stream",
     "text": [
      "{'Sachin': 10, 'MSD': 7, 'Kohli': 18, 'Rohit': 45}\n"
     ]
    }
   ],
   "source": [
    "list1=[('Sachin', 10), ('MSD', 7), ('Kohli', 18), ('Rohit', 45)]\n",
    "dict1={}\n",
    "for i in list1:\n",
    "    dict1[i[0]]=i[1]\n",
    "\n",
    "print(dict1)\n",
    "    "
   ]
  },
  {
   "cell_type": "markdown",
   "id": "2b77b340",
   "metadata": {},
   "source": [
    "# Question 93. Write a Python program to create a list of tuples from given list having number and its cube in each tuple.\n",
    "\n",
    "# Input: list = [9, 5, 6]\n",
    "\n",
    "# Output: [(9, 729), (5, 125), (6, 216)]"
   ]
  },
  {
   "cell_type": "code",
   "execution_count": 57,
   "id": "10945e5e",
   "metadata": {},
   "outputs": [
    {
     "name": "stdout",
     "output_type": "stream",
     "text": [
      "[(9, 729), (5, 125), (6, 216)]\n"
     ]
    }
   ],
   "source": [
    "list1 = [9, 5, 6]\n",
    "list2=[]\n",
    "for value in list1:\n",
    "    list2.append((value,value**3))\n",
    "print(list2)"
   ]
  },
  {
   "cell_type": "markdown",
   "id": "e51cadf7",
   "metadata": {},
   "source": [
    "# Question 94. Write a Python program to get all combinations of 2 tuples.\n",
    "\n",
    "# Input : test_tuple1 = (7, 2), test_tuple2 = (7, 8)\n",
    "\n",
    "# Output : [(7, 7), (7, 8), (2, 7), (2, 8), (7, 7), (7, 2), (8, 7), (8, 2)]"
   ]
  },
  {
   "cell_type": "code",
   "execution_count": 56,
   "id": "6826a179",
   "metadata": {},
   "outputs": [
    {
     "name": "stdout",
     "output_type": "stream",
     "text": [
      "[(7, 7), (7, 8), (2, 7), (2, 8), (7, 7), (7, 2), (8, 7), (8, 2)]\n"
     ]
    }
   ],
   "source": [
    "tuple1 = (7, 2)\n",
    "tuple2 = (7, 8)\n",
    "list1=[]\n",
    "for i in tuple1:\n",
    "    for j in tuple2:\n",
    "        list1.append((i,j))\n",
    "for i in tuple2:\n",
    "    for j in tuple1:\n",
    "        list1.append((i,j))\n",
    "print(list1)\n"
   ]
  },
  {
   "cell_type": "markdown",
   "id": "593679c0",
   "metadata": {},
   "source": [
    "# Question 95. Write a Python program to sort a list of tuples by second item.\n",
    "\n",
    "# Input : [('for', 24), ('Geeks', 8), ('Geeks', 30)] \n",
    "\n",
    "# Output : [('Geeks', 8), ('for', 24), ('Geeks', 30)]"
   ]
  },
  {
   "cell_type": "code",
   "execution_count": 47,
   "id": "45b52b16",
   "metadata": {},
   "outputs": [
    {
     "name": "stdout",
     "output_type": "stream",
     "text": [
      "[('Geeks', 8), ('for', 24), ('Geeks', 30)]\n"
     ]
    }
   ],
   "source": [
    "list1=[('for', 24), ('Geeks', 8), ('Geeks', 30)]\n",
    "\n",
    "def solve(x):\n",
    "    return x[1]\n",
    "    \n",
    "list1.sort(key=solve)\n",
    "print(list1)"
   ]
  },
  {
   "cell_type": "markdown",
   "id": "9956e3b7",
   "metadata": {},
   "source": [
    "# Question 96. Write a python program to print below pattern.\n",
    "\n",
    "# * \n",
    "# * * \n",
    "# * * * \n",
    "# * * * * \n",
    "# * * * * * "
   ]
  },
  {
   "cell_type": "code",
   "execution_count": 41,
   "id": "b5d12796",
   "metadata": {},
   "outputs": [
    {
     "name": "stdout",
     "output_type": "stream",
     "text": [
      "* \n",
      "* * \n",
      "* * * \n",
      "* * * * \n",
      "* * * * * \n"
     ]
    }
   ],
   "source": [
    "for i in range(1,6):\n",
    "    for j in range(0,i):\n",
    "        print(\"*\",end=\" \")\n",
    "    print()"
   ]
  },
  {
   "cell_type": "markdown",
   "id": "c7843f60",
   "metadata": {},
   "source": [
    "# Question 97. Write a python program to print below pattern."
   ]
  },
  {
   "cell_type": "code",
   "execution_count": null,
   "id": "588b124c",
   "metadata": {},
   "outputs": [],
   "source": [
    "#     *\n",
    "#    **\n",
    "#   ***\n",
    "#  ****\n",
    "# *****"
   ]
  },
  {
   "cell_type": "code",
   "execution_count": 42,
   "id": "d9835ba7",
   "metadata": {},
   "outputs": [
    {
     "name": "stdout",
     "output_type": "stream",
     "text": [
      "    *\n",
      "   **\n",
      "  ***\n",
      " ****\n",
      "*****\n"
     ]
    }
   ],
   "source": [
    "for i in range(1,6):\n",
    "    for j in range(1,6-i):\n",
    "        print(end=\" \")\n",
    "    for k in range(0,i):\n",
    "        print(\"*\",end=\"\")\n",
    "    print()"
   ]
  },
  {
   "cell_type": "markdown",
   "id": "066bbbed",
   "metadata": {},
   "source": [
    "# Question 98. Write a python program to print below pattern."
   ]
  },
  {
   "cell_type": "code",
   "execution_count": null,
   "id": "7fc6c5af",
   "metadata": {},
   "outputs": [],
   "source": [
    "#     * \n",
    "#    * * \n",
    "#   * * * \n",
    "#  * * * * \n",
    "# * * * * * "
   ]
  },
  {
   "cell_type": "code",
   "execution_count": 43,
   "id": "581c7cf7",
   "metadata": {},
   "outputs": [
    {
     "name": "stdout",
     "output_type": "stream",
     "text": [
      "    * \n",
      "   * * \n",
      "  * * * \n",
      " * * * * \n",
      "* * * * * \n"
     ]
    }
   ],
   "source": [
    "for i in range(1,6):\n",
    "    for j in range(1,6-i):\n",
    "        print(end=\" \")\n",
    "    for k in range(0,i):\n",
    "        print(\"* \",end=\"\")\n",
    "    print()"
   ]
  },
  {
   "cell_type": "markdown",
   "id": "fa37cdc1",
   "metadata": {},
   "source": [
    "# Question 99. Write a python program to print below pattern.\n",
    "\n",
    "# 1 \n",
    "# 1 2 \n",
    "# 1 2 3 \n",
    "# 1 2 3 4 \n",
    "# 1 2 3 4 5"
   ]
  },
  {
   "cell_type": "code",
   "execution_count": 39,
   "id": "a2cfa415",
   "metadata": {},
   "outputs": [
    {
     "name": "stdout",
     "output_type": "stream",
     "text": [
      "1 \n",
      "1 2 \n",
      "1 2 3 \n",
      "1 2 3 4 \n",
      "1 2 3 4 5 \n"
     ]
    }
   ],
   "source": [
    "for value in range(1,6):\n",
    "    for value2 in range(1,value+1):\n",
    "        print(value2,end=\" \")\n",
    "    print()"
   ]
  },
  {
   "cell_type": "markdown",
   "id": "56e64de6",
   "metadata": {},
   "source": [
    "# Question 100. Write a python program to print below pattern.\n",
    "\n",
    "# A \n",
    "# B B \n",
    "# C C C \n",
    "# D D D D \n",
    "# E E E E E "
   ]
  },
  {
   "cell_type": "code",
   "execution_count": 72,
   "id": "f857cb7c",
   "metadata": {},
   "outputs": [
    {
     "name": "stdout",
     "output_type": "stream",
     "text": [
      "enter value 5\n",
      "A \n",
      "B B \n",
      "C C C \n",
      "D D D D \n",
      "E E E E E \n"
     ]
    }
   ],
   "source": [
    "n=int(input(\"enter value \"))\n",
    "for value1 in range(1,n+1):\n",
    "    for value2 in range(65,value1+65):\n",
    "        print(chr(value1+65-1),end=\" \")\n",
    "    print()"
   ]
  },
  {
   "cell_type": "code",
   "execution_count": null,
   "id": "ba3ec7c2",
   "metadata": {},
   "outputs": [],
   "source": []
  }
 ],
 "metadata": {
  "kernelspec": {
   "display_name": "Python 3 (ipykernel)",
   "language": "python",
   "name": "python3"
  },
  "language_info": {
   "codemirror_mode": {
    "name": "ipython",
    "version": 3
   },
   "file_extension": ".py",
   "mimetype": "text/x-python",
   "name": "python",
   "nbconvert_exporter": "python",
   "pygments_lexer": "ipython3",
   "version": "3.11.1"
  }
 },
 "nbformat": 4,
 "nbformat_minor": 5
}
