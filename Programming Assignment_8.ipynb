{
 "cells": [
  {
   "cell_type": "markdown",
   "id": "915448c4",
   "metadata": {},
   "source": [
    "#                                      Programming Assignment_8"
   ]
  },
  {
   "cell_type": "markdown",
   "id": "f7bfe252",
   "metadata": {},
   "source": [
    "# Question 1. Write a Python Program to Add Two Matrices?\n",
    "\n",
    "# mat1 = [[1,2,3],\n",
    "#         [6, -4, -9],\n",
    "#         [3,6,9]]\n",
    "\n",
    "\n",
    "# mat2 = [[6,9,3],\n",
    "#         [1,-1,1],\n",
    "#         [0, 9, 11]]"
   ]
  },
  {
   "cell_type": "code",
   "execution_count": 6,
   "id": "3ddb3d45",
   "metadata": {},
   "outputs": [
    {
     "name": "stdout",
     "output_type": "stream",
     "text": [
      "[[7, 11, 6], [7, -5, -8], [3, 15, 20]]\n"
     ]
    }
   ],
   "source": [
    "# solution:\n",
    "mat1 = [[1,2,3],\n",
    "        [6, -4, -9],\n",
    "        [3,6,9]]\n",
    "\n",
    "mat2 = [[6,9,3],\n",
    "        [1,-1,1],\n",
    "        [0, 9, 11]]\n",
    "for i in range(0,len(mat1)):\n",
    "    for j in range(0,len(mat1[i])):\n",
    "        mat1[i][j]=mat1[i][j]+mat2[i][j]\n",
    "print(mat1)"
   ]
  },
  {
   "cell_type": "markdown",
   "id": "ec17bea5",
   "metadata": {},
   "source": [
    "# Question 2. Write a Python Program to Multiply Two Matrices?\n",
    "\n",
    "# A = [[12, 7, 3],\n",
    "#     [4, 5, 6],\n",
    "#     [7, 8, 9]]\n",
    "\n",
    "\n",
    "# B = [[5, 8, 1, 2],\n",
    "#     [6, 7, 3, 0],\n",
    "#     [4, 5, 9, 1]]\n"
   ]
  },
  {
   "cell_type": "code",
   "execution_count": 11,
   "id": "1f4595a0",
   "metadata": {},
   "outputs": [
    {
     "name": "stdout",
     "output_type": "stream",
     "text": [
      "[[114, 160, 60, 27], [74, 97, 73, 14], [119, 157, 112, 23]]\n"
     ]
    }
   ],
   "source": [
    "# solution:\n",
    "A = [[12, 7, 3],\n",
    "    [4, 5, 6],\n",
    "    [7, 8, 9]]\n",
    "\n",
    "B = [[5, 8, 1, 2],\n",
    "    [6, 7, 3, 0],\n",
    "    [4, 5, 9, 1]]\n",
    "\n",
    "ans=[[0,0,0,0],[0,0,0,0],[0,0,0,0]]\n",
    "for i in range(0,len(A)):\n",
    "    for j in range(0,len(B[0])):\n",
    "        for k in range(0,len(B)):\n",
    "            ans[i][j]+=A[i][k]*B[k][j]\n",
    "print(ans)"
   ]
  },
  {
   "cell_type": "markdown",
   "id": "f19ce465",
   "metadata": {},
   "source": [
    "# Question 3. Write a Python Program to Transpose a Matrix?\n",
    "\n",
    "# X = [[12,7],\n",
    "#     [4 ,5],\n",
    "#     [3 ,8]]"
   ]
  },
  {
   "cell_type": "code",
   "execution_count": 15,
   "id": "eff4034d",
   "metadata": {},
   "outputs": [
    {
     "name": "stdout",
     "output_type": "stream",
     "text": [
      "[[12, 4, 3], [7, 5, 8]]\n"
     ]
    }
   ],
   "source": [
    "# solution:\n",
    "X = [[12,7],\n",
    "    [4 ,5],\n",
    "    [3 ,8]]\n",
    "ans=[[0,0,0],[0,0,0]]\n",
    "\n",
    "for i in range(len(X)):\n",
    "    for j in range(len(X[0])):\n",
    "        ans[j][i]=X[i][j]\n",
    "print(ans)"
   ]
  },
  {
   "cell_type": "markdown",
   "id": "e693ef3e",
   "metadata": {},
   "source": [
    "# Question 4. Write a Python Program to Sort Words in Alphabetic Order?"
   ]
  },
  {
   "cell_type": "code",
   "execution_count": 22,
   "id": "62644bf8",
   "metadata": {},
   "outputs": [
    {
     "name": "stdout",
     "output_type": "stream",
     "text": [
      "enter any sentence => This is task from the Assignment\n",
      "['this', 'is', 'task', 'from', 'the', 'assignment']\n",
      "['assignment', 'from', 'is', 'task', 'the', 'this']\n"
     ]
    }
   ],
   "source": [
    "# solution:\n",
    "a1=input(\"enter any sentence => \").lower()\n",
    "list1=a1.split(\" \")\n",
    "print(list1)\n",
    "list1.sort()\n",
    "print(list1)\n"
   ]
  },
  {
   "cell_type": "markdown",
   "id": "eedad6bf",
   "metadata": {},
   "source": [
    "# Question 5. Write a Python Program to Remove Punctuation From a String?\n",
    "\n",
    "# punctuations = '''!()-[]{};:'\"\\,<>./?@#$%^&*_~'''"
   ]
  },
  {
   "cell_type": "code",
   "execution_count": 23,
   "id": "b9e8b686",
   "metadata": {},
   "outputs": [
    {
     "name": "stdout",
     "output_type": "stream",
     "text": [
      "enter any sentence=> Hello, World!!! <HTML> c++; {braces} \\/!@##^&*()( Ending the string now.\n",
      "Hello World HTML c++ braces  Ending the string now\n"
     ]
    }
   ],
   "source": [
    "# solution:\n",
    "a1=input(\"enter any sentence=> \")\n",
    "ans=\"\"\n",
    "punctuations = '''!()-[]{};:'\"\\,<>./?@#$%^&*_~'''\n",
    "for i in a1:\n",
    "    if i not in punctuations:\n",
    "        ans+=i\n",
    "print(ans)\n"
   ]
  }
 ],
 "metadata": {
  "kernelspec": {
   "display_name": "Python 3 (ipykernel)",
   "language": "python",
   "name": "python3"
  },
  "language_info": {
   "codemirror_mode": {
    "name": "ipython",
    "version": 3
   },
   "file_extension": ".py",
   "mimetype": "text/x-python",
   "name": "python",
   "nbconvert_exporter": "python",
   "pygments_lexer": "ipython3",
   "version": "3.11.1"
  }
 },
 "nbformat": 4,
 "nbformat_minor": 5
}
